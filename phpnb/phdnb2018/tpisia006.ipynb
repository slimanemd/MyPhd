{
 "cells": [
  {
   "cell_type": "code",
   "execution_count": 118,
   "metadata": {},
   "outputs": [
    {
     "name": "stdout",
     "output_type": "stream",
     "text": [
      "[[6 3]\n",
      " [6 3]]\n",
      "[[6 3]\n",
      " [6 3]]\n",
      "[[128 128]\n",
      " [128 128]]\n",
      "[[128 128]\n",
      " [128 128]]\n"
     ]
    }
   ],
   "source": [
    "import numpy as np\n",
    "#from numpy.linalg import matrix_power\n",
    "\n",
    "A = np.matrix(\n",
    "    [[1, 1],\n",
    "     [1, 1]])\n",
    "B = np.matrix(\n",
    "    [[4, 1], \n",
    "     [2, 2]])\n",
    "\n",
    "# C = A B array([[6,3],[6,3]]) on a 6=1*4+1*2, 3=1*1+1*2, 6=1*4+1*2 3= 1*1+1*2\n",
    "C0 = np.matmul(A, B)    ;print(C0)     \n",
    "C1 = A * B              ;print(C1)  #meme resultat avec l'operateur *\n",
    "\n",
    "A80 = matrix_power(A, 8) ;print(A8)  #ne pas utiliser np.power c est correct\n",
    "A81 = A**8             ;print(A81)   #meme resultat avec l'operateur **"
   ]
  },
  {
   "cell_type": "code",
   "execution_count": 82,
   "metadata": {},
   "outputs": [
    {
     "name": "stdout",
     "output_type": "stream",
     "text": [
      "A   =  [[0.1 0.2 0.7]\n",
      " [0.3 0.4 0.3]\n",
      " [0.5 0.4 0.1]]\n",
      "AT  =  [[0.1 0.3 0.5]\n",
      " [0.2 0.4 0.4]\n",
      " [0.7 0.3 0.1]]\n",
      "V   =  [[1 0 0]]\n",
      "VT  =  [[1]\n",
      " [0]\n",
      " [0]]\n",
      "AVT =  [[0.1]\n",
      " [0.3]\n",
      " [0.5]]\n",
      "VAT =  [[0.1 0.3 0.5]]   AVT.T =  [[0.1 0.3 0.5]]\n",
      "H0  =  [[0.256 0.312 0.352]]\n",
      "K0  =  [[0.256 0.312 0.352]]\n",
      "H1  =  [[0.256 0.312 0.352]]\n",
      "K1  =  [[0.256 0.312 0.352]]\n"
     ]
    }
   ],
   "source": [
    "A = np.matrix(\n",
    "    [[0.1,0.2,0.7],\n",
    "     [0.3,0.4,0.3],\n",
    "     [0.5,0.4,0.1]])              ;print(\"A   = \",A)\n",
    "AT = A.transpose()                ;print(\"AT  = \", AT)                          \n",
    "V = np.matrix([1,0,0])            ;print(\"V   = \",V)\n",
    "VT = V.transpose()                ;print(\"VT  = \",VT)\n",
    "\n",
    "AVT = A * V.transpose()           ;print(\"AVT = \",AVT)\n",
    "VAT = V * A.transpose()           ;print(\"VAT = \",VAT,  \"  AVT.T = \", AVT.transpose())\n",
    "\n",
    "n =3\n",
    "H0 = np.dot(V, (A**n).transpose())            ;print(\"H0  = \",H)\n",
    "K0 = np.dot(A**n ,V.transpose()).transpose()  ;print(\"K0  = \",K) #meme resultat\n",
    "\n",
    "H1 = (V * (A**n).transpose())                  ;print(\"H1  = \",H0)\n",
    "K1 = (A**n * V.transpose()).transpose()        ;print(\"K1  = \",K0)"
   ]
  },
  {
   "cell_type": "code",
   "execution_count": 156,
   "metadata": {},
   "outputs": [],
   "source": [
    "MC_pi_n = lambda P, pi0, n : np.dot(pi0, np.linalg.matrix_power(P,n))  \n",
    "MC_pi_n = lambda P, pi0, n : (pi0 * P**n) \n",
    "MCT_pi_n = lambda P, pi0, n : (P**n * pi0.transpose()).transpose() "
   ]
  },
  {
   "cell_type": "code",
   "execution_count": 119,
   "metadata": {},
   "outputs": [
    {
     "name": "stdout",
     "output_type": "stream",
     "text": [
      "[[0.256 0.316 0.428]]\n"
     ]
    }
   ],
   "source": [
    "#exepmle 01 CM01\n",
    "P = np.matrix(\n",
    "    [[0.1,0.2,0.7],\n",
    "     [0.3,0.4,0.3],\n",
    "     [0.5,0.4,0.1]]) \n",
    "pi0 = A = np.matrix([[0.1,0.2,0.7]])\n",
    "n = 2\n",
    "pi2= MC_pi_n(P,pi0,n)         ;print(pi2)"
   ]
  },
  {
   "cell_type": "code",
   "execution_count": 120,
   "metadata": {},
   "outputs": [
    {
     "name": "stdout",
     "output_type": "stream",
     "text": [
      "[[0.86 0.14]]\n"
     ]
    }
   ],
   "source": [
    "#exemple 02 CM02\n",
    "#https://en.wikipedia.org/wiki/Examples_of_Markov_chains\n",
    "P = np.matrix(\n",
    "    [[0.9,0.1],\n",
    "     [0.5,0.5]]) \n",
    "pi0 = A = np.matrix([1,0])\n",
    "n = 2\n",
    "pi2= MC_pi_n(P,pi0,n)         ;print(pi2)"
   ]
  },
  {
   "cell_type": "code",
   "execution_count": 157,
   "metadata": {},
   "outputs": [
    {
     "name": "stdout",
     "output_type": "stream",
     "text": [
      "pi_ 7  =  [[0.19995117 0.40002441 0.40002441]] \n",
      "pi_ 7  =  [[0.19995117 0.40002441 0.40002441]] \n",
      "P 7  =  [[0.19995117 0.40002441 0.40002441]\n",
      " [0.20001221 0.40002441 0.39996338]\n",
      " [0.20001221 0.39996338 0.40002441]]\n"
     ]
    }
   ],
   "source": [
    "#exemple 02 CM02\n",
    "#trouver sur http://aix1.uottawa.ca/~jkhoury/markov.htm\n",
    "P = np.matrix(\n",
    "    [[0, 0.5, 0.5],\n",
    "     [0.25, 0.5, 0.25],\n",
    "     [0.25, 0.25, 0.5],]) \n",
    "\n",
    "PT = np.matrix(\n",
    "    [[0, 0.25, 0.25],\n",
    "     [0.5, 0.5, 0.25],\n",
    "     [0.5, 0.25, 0.5],]) \n",
    "\n",
    "pi0 = np.matrix([1,0,0])\n",
    "n = 7\n",
    "\n",
    "pi_n= MCT_pi_n(PT, pi0,n)         ;print(\"pi_\",n, \" = \",pi_n,\"\")\n",
    "pi_n= MC_pi_n(P,pi0,n)            ;print(\"pi_\",n, \" = \",pi_n,\"\")\n",
    "\n",
    "print(\"P\",n,\" = \",P**n)\n",
    "\n",
    "#for i in range(1,20):  \n",
    "#    P_n = P**i  \n",
    "    #print(\"P\",i,\" = \",P_n)\n",
    "#    pi_n= MC_pi_n(P,pi0,i)         ;print(\"pi_\",i, \" = \",pi_n,\"\")   "
   ]
  },
  {
   "cell_type": "code",
   "execution_count": 127,
   "metadata": {},
   "outputs": [
    {
     "name": "stdout",
     "output_type": "stream",
     "text": [
      "[[1 0 0]\n",
      " [0 1 0]\n",
      " [0 0 1]]\n",
      "[[1 0 0]\n",
      " [0 1 0]\n",
      " [0 0 1]]\n",
      "[[1 0 0]\n",
      " [0 1 0]\n",
      " [0 0 1]]\n",
      " G  =  [[1 1]\n",
      " [1 1]]\n",
      "K =  [[8 8]\n",
      " [8 8]]\n"
     ]
    }
   ],
   "source": [
    "T = np.matrix([[1,0,0],[0,1,0],[0,0,1]])                ;print(T)\n",
    "U = np.matrix([[1,1,1],[1,1,1],[1,1,1]])                ;print(T)\n",
    "U = np.matrix([[1,1],[1,1]])                ;print(T)\n",
    "T = U\n",
    "n = 4\n",
    "G = np.power(T,n)          ;print(\" G  = \", G)\n",
    "K = T**n          ;print(\"K = \",K)"
   ]
  },
  {
   "cell_type": "code",
   "execution_count": 30,
   "metadata": {},
   "outputs": [
    {
     "data": {
      "text/plain": [
       "matrix([[1, 2],\n",
       "        [3, 4]])"
      ]
     },
     "execution_count": 30,
     "metadata": {},
     "output_type": "execute_result"
    }
   ],
   "source": []
  },
  {
   "cell_type": "code",
   "execution_count": 31,
   "metadata": {},
   "outputs": [
    {
     "data": {
      "text/plain": [
       "matrix([[1, 3],\n",
       "        [2, 4]])"
      ]
     },
     "execution_count": 31,
     "metadata": {},
     "output_type": "execute_result"
    }
   ],
   "source": []
  },
  {
   "cell_type": "code",
   "execution_count": 32,
   "metadata": {},
   "outputs": [],
   "source": []
  },
  {
   "cell_type": "code",
   "execution_count": 33,
   "metadata": {},
   "outputs": [
    {
     "data": {
      "text/plain": [
       "matrix([[1, 2]])"
      ]
     },
     "execution_count": 33,
     "metadata": {},
     "output_type": "execute_result"
    }
   ],
   "source": [
    "V"
   ]
  },
  {
   "cell_type": "code",
   "execution_count": 37,
   "metadata": {},
   "outputs": [
    {
     "data": {
      "text/plain": [
       "matrix([[ 5],\n",
       "        [11]])"
      ]
     },
     "execution_count": 37,
     "metadata": {},
     "output_type": "execute_result"
    }
   ],
   "source": [
    "(V * A.transpose()).transpose()"
   ]
  },
  {
   "cell_type": "code",
   "execution_count": 38,
   "metadata": {},
   "outputs": [
    {
     "data": {
      "text/plain": [
       "matrix([[ 5],\n",
       "        [11]])"
      ]
     },
     "execution_count": 38,
     "metadata": {},
     "output_type": "execute_result"
    }
   ],
   "source": [
    "A * V.transpose()"
   ]
  },
  {
   "cell_type": "code",
   "execution_count": 21,
   "metadata": {},
   "outputs": [
    {
     "data": {
      "text/plain": [
       "matrix([[1, 2],\n",
       "        [2, 4]])"
      ]
     },
     "execution_count": 21,
     "metadata": {},
     "output_type": "execute_result"
    }
   ],
   "source": [
    "U = np.matrix([1,2])\n",
    "V.transpose() * A"
   ]
  },
  {
   "cell_type": "code",
   "execution_count": 22,
   "metadata": {},
   "outputs": [
    {
     "data": {
      "text/plain": [
       "matrix([[1],\n",
       "        [2]])"
      ]
     },
     "execution_count": 22,
     "metadata": {},
     "output_type": "execute_result"
    }
   ],
   "source": [
    "U.transpose()"
   ]
  },
  {
   "cell_type": "code",
   "execution_count": 23,
   "metadata": {},
   "outputs": [],
   "source": [
    "U = V.transpose()"
   ]
  },
  {
   "cell_type": "code",
   "execution_count": 24,
   "metadata": {},
   "outputs": [
    {
     "data": {
      "text/plain": [
       "matrix([[1],\n",
       "        [2]])"
      ]
     },
     "execution_count": 24,
     "metadata": {},
     "output_type": "execute_result"
    }
   ],
   "source": [
    "U"
   ]
  },
  {
   "cell_type": "code",
   "execution_count": 28,
   "metadata": {},
   "outputs": [
    {
     "data": {
      "text/plain": [
       "matrix([[1],\n",
       "        [2]])"
      ]
     },
     "execution_count": 28,
     "metadata": {},
     "output_type": "execute_result"
    }
   ],
   "source": [
    "A.transpose()"
   ]
  },
  {
   "cell_type": "code",
   "execution_count": 66,
   "metadata": {},
   "outputs": [],
   "source": [
    "#i = np.array([[1, 1,1], [1,1,1], [1,1,1]]) # matrix equiv. of the imaginary unit\n",
    "#md = np.matrix([[1, 1,1], [1,1,1], [1,1,1]]) # matrix equiv. of the imaginary unit\n",
    "#md = np.matrix([[1, 1], [1,1]]) # matrix equiv. of the imaginary unit\n",
    "#mx = matrix_power(a, 8) # should = -i array([[ 0, -1],       [ 1,  0]])\n",
    "#print(mx)\n",
    "#print((md**8))"
   ]
  },
  {
   "cell_type": "markdown",
   "metadata": {},
   "source": [
    "<!--- <b>Etat periodique</b>\n",
    "- <b>Classe periodqique</b>\n",
    "- <b>Probabilité d'absorption</b>\n",
    "- <b>Temps du premier passage</b>\n",
    "- <b>Temps de retour moyen</b-->"
   ]
  },
  {
   "cell_type": "markdown",
   "metadata": {},
   "source": []
  },
  {
   "cell_type": "code",
   "execution_count": null,
   "metadata": {},
   "outputs": [],
   "source": []
  }
 ],
 "metadata": {
  "kernelspec": {
   "display_name": "Python 3",
   "language": "python",
   "name": "python3"
  },
  "language_info": {
   "codemirror_mode": {
    "name": "ipython",
    "version": 3
   },
   "file_extension": ".py",
   "mimetype": "text/x-python",
   "name": "python",
   "nbconvert_exporter": "python",
   "pygments_lexer": "ipython3",
   "version": "3.6.4"
  }
 },
 "nbformat": 4,
 "nbformat_minor": 2
}
