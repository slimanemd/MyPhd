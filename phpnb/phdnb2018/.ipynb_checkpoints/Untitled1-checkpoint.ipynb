{
 "cells": [
  {
   "cell_type": "markdown",
   "metadata": {},
   "source": [
    "# Chaine de Markov\n",
    "#### Slimane mohamed\n"
   ]
  },
  {
   "cell_type": "markdown",
   "metadata": {},
   "source": [
    "- $j$ est <b>accessible</b> à partir de $i$ (noté $i \\to j$) $\\implies$ $\\exists n >0,  P^{(n)}_{ij} > 0$\n",
    "- $i$ et $j$ sont <b>communiquantes</b> $\\implies$ $i \\to j \\text{ & } j \\to i$\n",
    "- <b>Classe transitoire</b> : il est possible d'en sortir sans pouvoir plus jamais y revenir\n",
    "- <b>Classe recurrente</b> : il est impossible de la quitter\n",
    "- <b>Etat absorbant</b> : tout seul forme une classe recurrente.\n",
    "- <b>CM irreductible</b> : constituée d'une seule classe et qui est recurrente.\n",
    "- <b>Distribution limite</b> : est la distribution $\\pi$ verifiant $\\pi_j = \\lim_{n \\to \\infty} P^{(n)}_{ij}$ c.a.d ($\\pi = \\lim_{n \\rightarrow \\infty} \\pi^{(n)}$)\n",
    "- <b>Distribution Stationnaire</b> : est la distribution $\\pi$ verifiant $\\pi \\times \\textbf{P} = \\pi$ c.a.d ($\\pi (\\textbf{P}-I)=\\textbf{0}$)<br>"
   ]
  },
  {
   "cell_type": "code",
   "execution_count": 90,
   "metadata": {},
   "outputs": [
    {
     "name": "stdout",
     "output_type": "stream",
     "text": [
      "[[6 3]\n",
      " [6 3]]\n",
      "[[6 3]\n",
      " [6 3]]\n",
      "[[128 128]\n",
      " [128 128]]\n",
      "[[128 128]\n",
      " [128 128]]\n"
     ]
    }
   ],
   "source": [
    "import numpy as np\n",
    "from numpy.linalg import matrix_power\n",
    "\n",
    "A = np.matrix(\n",
    "    [[1, 1],\n",
    "     [1, 1]])\n",
    "B = np.matrix(\n",
    "    [[4, 1], \n",
    "     [2, 2]])\n",
    "\n",
    "# C = A B array([[6,3],[6,3]]) \n",
    "# on a 6=1*4+1*2, 3=1*1+1*2, 6=1*4+1*2 3= 1*1+1*2\n",
    "C0 = np.matmul(A, B)       ;print(C0)     \n",
    "C1 = A * B                 ;print(C1)  #meme resultat avec l'operateur *\n",
    "\n",
    "A80 = matrix_power(A, 8)   ;print(A80)  #ne pas utiliser np.power c est pas correct\n",
    "A81 = A**8                 ;print(A81)   #meme resultat avec l'operateur **"
   ]
  },
  {
   "cell_type": "markdown",
   "metadata": {},
   "source": [
    "### Distribution de n ieme etape\n",
    "\n",
    "En donnant $\\pi(0)$ et la matrice de transition $P$, on peut calculer la distribution de CM à étape $n$ avec la relation :\n",
    "\n",
    "$$\n",
    "\\pi(n) =  \\pi(0) . P^n \n",
    "$$\n"
   ]
  },
  {
   "cell_type": "code",
   "execution_count": 91,
   "metadata": {},
   "outputs": [],
   "source": [
    "# MC_pi_n  = lambda P, pi0, n : np.dot(pi0, np.linalg.matrix_power(P,n))  \n",
    "# ou plus simplement \n",
    "\n",
    "MC_pi_n  = lambda P, pi0, n : (pi0 * P**n) #sans faire de transposer votre collegue avais raison"
   ]
  },
  {
   "cell_type": "markdown",
   "metadata": {},
   "source": [
    "\\begin{align*}\n",
    "    \\pi^{(0)} & = \\left[ 1 \\quad  0 \\right]\\\\\n",
    "    \\textbf{P} &= \\left[\n",
    "    \\begin{array}{rrr}\n",
    "      0.9 & 0.1\\\\\n",
    "      0.5  & 0.5\n",
    "    \\end{array}\n",
    "  \\right]\\\\\n",
    "  \\pi^{(1)} = \\pi^{(0)} . \\textbf{P} &= \\left[ 1 \\quad  0 \\right]\n",
    "  \\left[\n",
    "    \\begin{array}{rrr}\n",
    "      0.9 & 0.1\\\\\n",
    "      0.5  & 0.5\n",
    "    \\end{array}\n",
    "  \\right]\n",
    "  = \\left[ 0.9 \\quad  0.1 \\right]\n",
    "\\end{align*}"
   ]
  },
  {
   "cell_type": "code",
   "execution_count": 92,
   "metadata": {
    "scrolled": true
   },
   "outputs": [
    {
     "name": "stdout",
     "output_type": "stream",
     "text": [
      "[0.9, 0.1]\n"
     ]
    }
   ],
   "source": [
    "#exemple 001 CM01\n",
    "#https://en.wikipedia.org/wiki/Examples_of_Markov_chains\n",
    "CM01_P = np.matrix(\n",
    "    [[0.9,0.1],\n",
    "     [0.5,0.5]]) \n",
    "CM01_pi0 = np.matrix([1,0])\n",
    "CM01_n = 1\n",
    "pi1= MC_pi_n(CM01_P,CM01_pi0,CM01_n)         ;print(pi1.tolist()[0])\n",
    "# [0.9, 0.1]"
   ]
  },
  {
   "cell_type": "markdown",
   "metadata": {},
   "source": [
    "\\begin{align*}\n",
    "  \\pi^{(2)} = \\pi^{(1)} . \\textbf{P} = \\pi^{(0)} . \\textbf{P}^2 &= \\left[ 1 \\quad  0 \\right]\n",
    "  \\left[\n",
    "    \\begin{array}{rrr}\n",
    "      0.9 & 0.1\\\\\n",
    "      0.5  & 0.5\n",
    "    \\end{array}\n",
    "  \\right]^2\n",
    "  = \\left[ 0.86 \\quad  0.14 \\right]\n",
    "\\end{align*}"
   ]
  },
  {
   "cell_type": "code",
   "execution_count": 93,
   "metadata": {
    "scrolled": true
   },
   "outputs": [
    {
     "name": "stdout",
     "output_type": "stream",
     "text": [
      "[0.8600000000000001, 0.14]\n"
     ]
    }
   ],
   "source": [
    "#exemple 02 CM02\n",
    "#https://en.wikipedia.org/wiki/Examples_of_Markov_chains\n",
    "CM02_P = np.matrix(\n",
    "    [[0.9,0.1],\n",
    "     [0.5,0.5]]) \n",
    "CM02_pi0 = np.matrix([1,0])\n",
    "CM02_n = 2\n",
    "pi1= MC_pi_n(CM02_P,CM02_pi0,CM02_n)         ;print(pi1.tolist()[0])\n",
    "#[0.8600000000000001, 0.14]"
   ]
  },
  {
   "cell_type": "markdown",
   "metadata": {},
   "source": [
    "\\begin{align*}\n",
    "    \\pi^{(0)} & = \\left[ 1/3 \\quad  1/3 \\quad 1/3 \\right]\\\\\n",
    "    \\textbf{P} &= \\left[\n",
    "    \\begin{array}{rrr}\n",
    "      0.3 & 0.3 & 0.4\\\\\n",
    "      0.4  & 0.4 & 0.2 \\\\\n",
    "      0.5 & 0.3 & 0.2\n",
    "    \\end{array}\n",
    "  \\right]\\\\\n",
    "  \\pi^{(1)} = \\pi^{(0)} . \\textbf{P} &= \\left[ 1/3 \\quad  1/3 \\quad 1/3 \\right]\n",
    "  \\left[\n",
    "    \\begin{array}{rrr}\n",
    "      0.3 & 0.3 & 0.4\\\\\n",
    "      0.4  & 0.4 & 0.2 \\\\\n",
    "      0.5 & 0.3 & 0.2\n",
    "    \\end{array}\n",
    "  \\right]\n",
    "  = \\left[ 0.4000 \\quad  0.3333 \\quad 0.2666 \\right]\n",
    "\\end{align*}"
   ]
  },
  {
   "cell_type": "code",
   "execution_count": 94,
   "metadata": {},
   "outputs": [
    {
     "name": "stdout",
     "output_type": "stream",
     "text": [
      "pi_ 1  =  [[0.4        0.33333333 0.26666667]] \n"
     ]
    }
   ],
   "source": [
    "#exemple 03 CM03\n",
    "#trouver sur http://aix1.uottawa.ca/~jkhoury/markov.htm\n",
    "\n",
    "CM03_P = np.matrix(\n",
    "    [[0.3, 0.3, 0.4],\n",
    "     [0.4, 0.4, 0.2],\n",
    "     [0.5, 0.3, 0.2],]) \n",
    "CM03_pi0 = np.matrix([1/3,1/3,1/3])\n",
    "CM03_n = 1\n",
    "\n",
    "pi_n= MC_pi_n(CM03_P,CM03_pi0,CM03_n)            ;print(\"pi_\",n, \" = \",pi_n,\"\")\n",
    "# pi_ 1  =  [[0.4        0.33333333 0.26666667]] "
   ]
  },
  {
   "cell_type": "markdown",
   "metadata": {},
   "source": [
    "\\begin{align*}\n",
    "    \\pi^{(0)} & = \\left[ 1 \\quad  0 \\quad 0 \\right]\\\\\n",
    "    \\textbf{P} &= \\left[\n",
    "    \\begin{array}{rrr}\n",
    "      0 & 0.5 & 0.5\\\\\n",
    "      0.25  & 0.5 & 0.25 \\\\\n",
    "      0.25 & 0.25 & 0.5\n",
    "    \\end{array}\n",
    "  \\right]\\\\\n",
    "  \\pi^{(1)} = \\pi^{(0)} . \\textbf{P} &= \\left[ 1/3 \\quad  1/3 \\quad 1/3 \\right]\n",
    "  \\left[\n",
    "    \\begin{array}{rrr}\n",
    "      0 & 0.5 & 0.5\\\\\n",
    "      0.25  & 0.5 & 0.25 \\\\\n",
    "      0.25 & 0.25 & 0.5\n",
    "    \\end{array}\n",
    "  \\right]\n",
    "  = \\left[ 0.19995117 \\quad 0.40002441 \\quad 0.40002441 \\right]\n",
    "\\end{align*}"
   ]
  },
  {
   "cell_type": "code",
   "execution_count": 96,
   "metadata": {},
   "outputs": [
    {
     "name": "stdout",
     "output_type": "stream",
     "text": [
      "pi_ 1  =  [[0.19995117 0.40002441 0.40002441]] \n"
     ]
    }
   ],
   "source": [
    "#exemple 04\n",
    "CM04_P = np.matrix(\n",
    "    [[0, 0.5, 0.5],\n",
    "     [0.25, 0.5, 0.25],\n",
    "     [0.25, 0.25, 0.5],]) \n",
    "CM04_pi0 = np.matrix([1,0,0])\n",
    "CM04_n = 7\n",
    "\n",
    "pi_n= MC_pi_n(CM04_P,CM04_pi0,CM04_n)            ;print(\"pi_\",n, \" = \",pi_n,\"\")\n",
    "# pi_ 7  =  [[0.19995117 0.40002441 0.40002441]] "
   ]
  },
  {
   "cell_type": "code",
   "execution_count": 97,
   "metadata": {},
   "outputs": [
    {
     "data": {
      "text/plain": [
       "(1, 0.25)"
      ]
     },
     "execution_count": 97,
     "metadata": {},
     "output_type": "execute_result"
    }
   ],
   "source": [
    "# j accessible de i dans au plus n etapes\n",
    "#estAccessible = \n",
    "def acc(i,j, P, n) : \n",
    "    Q = P\n",
    "    for k in range(n):\n",
    "        if Q[i,j]>0: return k, Q[i,j]\n",
    "        Q = Q * P\n",
    "    return -1, 0\n",
    "\n",
    "CM04_P = np.matrix(\n",
    "    [[0, 0.5, 0.5],\n",
    "     [0.5, 0.5, 0],\n",
    "     [0.25, 0.25, 0.5],]) \n",
    "\n",
    "acc(1,2,CM04_P, 10)"
   ]
  },
  {
   "cell_type": "markdown",
   "metadata": {},
   "source": [
    "### Distribution stationnaire"
   ]
  },
  {
   "cell_type": "code",
   "execution_count": null,
   "metadata": {},
   "outputs": [],
   "source": []
  }
 ],
 "metadata": {
  "kernelspec": {
   "display_name": "Python 3",
   "language": "python",
   "name": "python3"
  }
 },
 "nbformat": 4,
 "nbformat_minor": 2
}
