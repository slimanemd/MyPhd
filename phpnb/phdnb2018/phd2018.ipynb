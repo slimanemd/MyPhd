{
 "cells": [
  {
   "cell_type": "markdown",
   "metadata": {
    "slideshow": {
     "slide_type": "slide"
    }
   },
   "source": [
    "<a id=\"home\"></a>\n",
    "[>](#bs)\n",
    "<img src='data/uoran001.PNG'>\n",
    "<br><br><br><br><br>\n",
    "<center>\n",
    "    <h3>Thése de Doctorat en Science - Informatique</h3>\n",
    "    <br>\n",
    "    <h1><b><span style=\"color:blue\">\n",
    "Scheduling Task Graph (DAG)<br>with Data placement on multicore NUMA platform\n",
    "</span></b></h1>\n",
    "    <h3>submtted by : Mohammed SLIMANE<br>\n",
    "    supervised by : Pr. Larbi SEKHRI</h3>   \n",
    "</center>\n",
    "\n",
    "<br><br><br><br><br><br><br><br><br><br><br><br><br><br><br><br><br><br><br><br><br><br>"
   ]
  },
  {
   "cell_type": "markdown",
   "metadata": {
    "slideshow": {
     "slide_type": "slide"
    }
   },
   "source": [
    "<br>\n",
    "<a id=\"bs\"></a>\n",
    "\n",
    "[<](#home) - [>](#c0)\n",
    "<center>\n",
    "<br><br><br><br><br><br><br><br>\n",
    "<img src='data/bismi004.png'>\n",
    "<br><br><br><br><br><br><br><br><br><br><br><br><br><br><br><br><br><br><br><br><br><br><br><br><br>\n",
    "</center>"
   ]
  },
  {
   "cell_type": "markdown",
   "metadata": {
    "slideshow": {
     "slide_type": "slide"
    }
   },
   "source": [
    "<a id=\"c0\"></a>\n",
    "[<](#bs) - [>](#c1)\n",
    "<font size=\"3\">\n",
    "    &nbsp;&nbsp;&nbsp;&nbsp; \n",
    "    <b><span style=\"color:blue\">Phd : DAGonNUMA > [1] Domain & Problematic</span></b>\n",
    "</font>\n",
    "<hr>\n",
    "\n",
    "<h2><b>Table of Content</b></h2>\n",
    "\n",
    "&nbsp;&nbsp;&nbsp;&nbsp;&nbsp;&nbsp;[+](#c1) <b><font size=\"+1\">[1]. Domain & Problematic</font></b><br><br>\n",
    "&nbsp;&nbsp;&nbsp;&nbsp;&nbsp;&nbsp;[+](#c2) <b><font size=\"+1\">[2]. State of Art</font></b><br><br>\n",
    "&nbsp;&nbsp;&nbsp;&nbsp;&nbsp;&nbsp;[+](#c3) <b><font size=\"+1\">[3]. Contribution</font></b><br><br>\n",
    "&nbsp;&nbsp;&nbsp;&nbsp;&nbsp;&nbsp;[+](#c4) <b><font size=\"+1\">[4]. Simulation & Tests</font></b><br><br>\n",
    "&nbsp;&nbsp;&nbsp;&nbsp;&nbsp;&nbsp;[+](#c5) <b><font size=\"+1\">[5]. Conclusion & Perspectives</font></b><br><br>\n",
    "<br><br><br><br><br><br><br><br><br><br><br><br><br><br><br><br><br><br><br><br><br><br><br><br><br><br>"
   ]
  },
  {
   "cell_type": "markdown",
   "metadata": {
    "slideshow": {
     "slide_type": "slide"
    }
   },
   "source": [
    "<a id=\"c1\"></a>\n",
    "[<](#c0) - [>](#c11)\n",
    "<font size=\"3\">\n",
    "    &nbsp;&nbsp;&nbsp;&nbsp; \n",
    "    <b><span style=\"color:blue\">Phd : DAGonNUMA > [1] Domain & Problematic</span></b>\n",
    "</font>\n",
    "<hr>\n",
    "\n",
    "<h2><b>[1] > Domain & Problematic </b></h2>\n",
    "\n",
    "\n",
    "&nbsp;&nbsp;&nbsp;&nbsp;&nbsp;&nbsp;[+](#c11) <b><font size=\"+1\">[1.1]. DAG scheduling with Data placement on NUMA platform</font></b><br><br>\n",
    "&nbsp;&nbsp;&nbsp;&nbsp;&nbsp;&nbsp;[+](#c12) <b><font size=\"+1\">[1.2]. Parallel platform & NUMA Architecture</font></b><br><br>\n",
    "&nbsp;&nbsp;&nbsp;&nbsp;&nbsp;&nbsp;[+](#c13) <b><font size=\"+1\">[1.3]. Parallel applications & Task Graph</font></b><br><br>\n",
    "&nbsp;&nbsp;&nbsp;&nbsp;&nbsp;&nbsp;[+](#c14) <b><font size=\"+1\">[1.4]. Scheduling & Mapping</font></b><br><br>\n",
    "&nbsp;&nbsp;&nbsp;&nbsp;&nbsp;&nbsp;[+](#c15) <b><font size=\"+1\">[1.5]. Task scheduling & Data placement in NUMA context</font></b><br><br>\n",
    "\n",
    "<br><br><br><br><br><br><br><br><br><br><br><br><br><br><br><br><br><br><br><br><br><br><br><!--br><br><br><br><br><br><br><br-->"
   ]
  },
  {
   "cell_type": "markdown",
   "metadata": {
    "slideshow": {
     "slide_type": "slide"
    }
   },
   "source": [
    "<a id=\"c11\"></a>\n",
    "[<](#c1) - [>](#c12)\n",
    "<font size=\"3\">\n",
    "    &nbsp;&nbsp;&nbsp;&nbsp; \n",
    "    <b><span style=\"color:blue\">Phd : DAGonNUMA > [1] Domain & Problematic > [1.1] DAG scheduling with Data placement on NUMA platform</span></b>\n",
    "</font>\n",
    "<hr>\n",
    "\n",
    "<h2><b>[1.1] DAG scheduling with Data placement on NUMA platform</b></h2>\n",
    "<br>\n",
    "\n",
    "|       |\n",
    "|:-----|\n",
    "|<h1>*How to run DAG based parallel application on NUMA architecture &nbsp;&nbsp;&nbsp;&nbsp;&nbsp;&nbsp;           <br>while &nbsp;&nbsp;&nbsp;&nbsp;&nbsp;&nbsp; &nbsp;&nbsp;&nbsp;&nbsp;&nbsp;&nbsp; &nbsp;&nbsp;&nbsp;&nbsp;&nbsp;&nbsp; &nbsp;&nbsp;&nbsp;&nbsp;&nbsp;&nbsp; &nbsp;&nbsp;&nbsp;&nbsp;&nbsp;&nbsp; &nbsp;&nbsp;&nbsp;&nbsp;&nbsp;&nbsp; &nbsp;&nbsp;&nbsp;&nbsp;&nbsp;&nbsp;                                          <br> - we take benifit from its scalabilty aspect &nbsp;&nbsp;&nbsp;&nbsp;&nbsp;&nbsp; &nbsp;&nbsp;&nbsp;&nbsp;&nbsp;&nbsp; &nbsp;&nbsp;&nbsp;&nbsp;&nbsp;&nbsp;&nbsp;&nbsp;&nbsp;&nbsp;&nbsp;&nbsp;&nbsp;&nbsp;&nbsp;&nbsp;&nbsp;                                          <br>- we avoid/reduce its penality as possible as we can ?&nbsp;&nbsp;&nbsp;&nbsp;&nbsp;&nbsp; &nbsp;&nbsp;&nbsp;&nbsp;&nbsp;&nbsp;* </h1>|\n",
    "<!--img src=\"dag00.png\" width=\"60%\"/-->\n",
    "<img src=\"data/numa01.jpg\" width=\"65%\"/>\n",
    "[source : https://www.supermicro.com/manuals/motherboard/5500/MNL-1083.pdf]\n",
    "<br><br><br><br><br><br><br><br><br><br><br><br><br><br><br><br><br><br><br><br><br><br><br><br>"
   ]
  },
  {
   "cell_type": "markdown",
   "metadata": {
    "slideshow": {
     "slide_type": "slide"
    }
   },
   "source": [
    "<a id=\"c12\"></a>\n",
    "\n",
    "[<](#c11) - [>](#c121)\n",
    "<font size=\"3\">\n",
    "    &nbsp;&nbsp;&nbsp;&nbsp; \n",
    "    <b><span style=\"color:blue\">Phd : DAGonNUMA > [1] Domain & Problematic > [1.2] Parallel platform & NUMA Architecture</span></b>\n",
    "</font>\n",
    "<hr>\n",
    "\n",
    "<h2>[1.2] Parallel platform & NUMA Architecture</h2>\n",
    "<h3>\n",
    "[1.2.1] CPUs, Moore and speed race<br><br>\n",
    "[1.2.2] Multicore revolution, (Manycore next)<br><br>\n",
    "[1.2.3] Memory organisation based architectures UMA/NUMA<br><br>\n",
    "[1.2.4] Non Uniform Memory Access NUMA<br><br>\n",
    "</h3>\n",
    "<br><br><br><br><br><br><br><br><br><br><br><br><br><br><br><br><br><br><br><br><br><br><br><br><br><br>"
   ]
  },
  {
   "cell_type": "markdown",
   "metadata": {
    "slideshow": {
     "slide_type": "slide"
    }
   },
   "source": [
    "<a id=\"c121\"></a>\n",
    "\n",
    "[<](#c12) - [>](#c122)\n",
    "<font size=\"3\">\n",
    "    &nbsp;&nbsp;&nbsp;&nbsp; \n",
    "    <b><span style=\"color:blue\">Phd : DAGonNUMA > [1] Domain & Problematic > [1.2] Parallel PF & NUMA Arch > [1.2.1] CPUs, Moore & speed race</span></b>\n",
    "</font>\n",
    "<hr>\n",
    "\n",
    "<h2>[1.2.1] CPUs, Moore and speed race</h2>\n",
    "\n",
    "<!--h1>- MOORRE Law double number of transistors every 18 month -->\n",
    "<img src=\"data/moore01.jpeg\"/> \n",
    "<!--/h1-->\n",
    "\n",
    "<!--h3>\n",
    "[1.2.1] CPUs, Moore and speed course<br><br>\n",
    "[1.2.2] Multicore revolution, (Manycore next)<br><br>\n",
    "[1.2.3] Memory organisation based architectures UMA/NUMA<br><br>\n",
    "[1.2.4] Non Uniform Memory Access NUMA<br><br>\n",
    "</h3-->\n",
    "<br><br><br><br><br><br><br><br><br><br><br><br><br><br><br><br><br>"
   ]
  },
  {
   "cell_type": "markdown",
   "metadata": {
    "slideshow": {
     "slide_type": "slide"
    }
   },
   "source": [
    "<a id=\"c122\"></a>\n",
    "\n",
    "[<](#c121) - [>](#c123)\n",
    "<font size=\"3\">\n",
    "    &nbsp;&nbsp;&nbsp;&nbsp; \n",
    "    <b><span style=\"color:blue\">Phd : DAGonNUMA > [1] Domain & Problematic > [1.2] Parallel PF & NUMA Arch > [1.2.2 MC revol]</span></b>\n",
    "</font>\n",
    "<hr>\n",
    "\n",
    "<h2>[1.2.2] Multicore revolution, (Manycore next)</h2>\n",
    "<img src=\"data/mc003.png\"/>\n",
    "<img src=\"data/admahel.png\"/>\n",
    "<!--h3>\n",
    "<br><br>\n",
    "[1.2.2] Multicore revolution, (Manycore next)<br><br>\n",
    "[1.2.3] Memory organisation based architectures UMA/NUMA<br><br>\n",
    "[1.2.4] Non Uniform Memory Access NUMA<br><br>\n",
    "</h3-->\n",
    "<br><br><br><br><br><br><br><br><br><br><br><br><br><br><br><br><br><br><br><br><br><br><br><br><br><br>"
   ]
  },
  {
   "cell_type": "markdown",
   "metadata": {
    "slideshow": {
     "slide_type": "slide"
    }
   },
   "source": [
    "<a id=\"c123\"></a>\n",
    "\n",
    "[<](#c122) - [>](#c12400)\n",
    "<font size=\"3\">\n",
    "    &nbsp;&nbsp;&nbsp;&nbsp; \n",
    "    <b><span style=\"color:blue\">Phd : DAGonNUMA > [1] Domain & Problematic > [1.2] Parallel PF & NUMA Arch > [1.2.2] UMA/NUMA</span></b>\n",
    "</font>\n",
    "<hr>\n",
    "\n",
    "<h2>[1.2.3] Memory organisation based architectures UMA/NUMA</h2>\n",
    "<img src=\"data/uma001.png\"/>\n",
    "<img src=\"data/bus.png\"/>\n",
    "\n",
    "\n",
    "<!--h3>\n",
    "<br><br>\n",
    "[1.2.2] Multicore revolution, (Manycore next)<br><br>\n",
    "[1.2.3] Memory organisation based architectures UMA/NUMA<br><br>\n",
    "[1.2.4] Non Uniform Memory Access NUMA<br><br>\n",
    "</h3-->\n",
    "<br><br><br><br><br><br><br><br><br><br><br><br><br><br><br><br><br><br><br><br><br><br><br><br><br><br>"
   ]
  },
  {
   "cell_type": "markdown",
   "metadata": {
    "slideshow": {
     "slide_type": "slide"
    }
   },
   "source": [
    "<a id=\"c12400\"></a>\n",
    "\n",
    "[<](#c123) - [>](#c13)\n",
    "<font size=\"3\">\n",
    "    &nbsp;&nbsp;&nbsp;&nbsp; \n",
    "    <b><span style=\"color:blue\">Phd : DAGonNUMA > [1] Domain & Problematic > [1.2] Parall PF > [1.2.4] NUMA</span></b>\n",
    "</font>\n",
    "<hr>\n",
    "\n",
    "<h2>[1.2.4] Non Uniform Memory Access NUMA</h2>\n",
    "<img src=\"data/numa00201.png\"/>\n",
    "<img src=\"data/numa00202.png\"/>\n",
    "<!--h3>\n",
    "[1.3.1] Parallelization process & Task Graph<br><br>\n",
    "[1.3.2] Task Scheduling & Mapping<br><br>\n",
    "[1.3.3] Data placement and locality\n",
    "</h3-->\n",
    "<br><br><br><br><br><br><br><br><br><br><br><br><br><br><br><br><br>"
   ]
  },
  {
   "cell_type": "markdown",
   "metadata": {
    "slideshow": {
     "slide_type": "slide"
    }
   },
   "source": [
    "<a id=\"c13\"></a>\n",
    "\n",
    "[<](#c124) - [>](#c13101)\n",
    "<font size=\"3\">\n",
    "    &nbsp;&nbsp;&nbsp;&nbsp; \n",
    "    <b><span style=\"color:blue\">Phd : DAGonNUMA > [1] Domain & Problematic > [1.3] DAG </span></b>\n",
    "</font>\n",
    "<hr>\n",
    "\n",
    "<h2>[1.3] Parallel applications & Task Graph</h2>\n",
    "\n",
    "<h3> Functionnal Parallelism : is Task based parallel programming model (paradigm)</h3>\n",
    "<h3>Parallelization Processus :</h3> \n",
    "\n",
    "<img src=\"data/paraprc001.png\" />\n",
    "\n",
    "<!--h3>\n",
    "1- Tasks decompositon (Granularity)<br><br>\n",
    "2- Dependancy analysis (Precedence relation)<br><br>\n",
    "3- Scheduling (Start time)<br><br>\n",
    "4- Mapping (Execution resource allocation)\n",
    "</h3-->"
   ]
  },
  {
   "cell_type": "markdown",
   "metadata": {
    "slideshow": {
     "slide_type": "slide"
    }
   },
   "source": [
    "<a id=\"c13101\"></a>\n",
    "\n",
    "[<](#c13) - [>](#c13102)\n",
    "<font size=\"3\">\n",
    "    &nbsp;&nbsp;&nbsp;&nbsp; \n",
    "    <b><span style=\"color:blue\">Phd : DAGonNUMA > [1] Domain & Problematic > [1.3] DAG </span></b>\n",
    "</font>\n",
    "<hr>\n",
    "\n",
    "<h3>\n",
    "Let $\\Phi$ be the sequential algorithm to parallize\n",
    "</h3>\n",
    "\n",
    "<h3> Example Demo : Linear equations system solving<br>\n",
    "<br>\n",
    "$$\n",
    "x,b \\in \\mathbb{R}^n, A \\in \\mathbb{R}^{n \\times n} \\text{  (down side Triangular Matrix ) } ,  \\\\ A.x = B\n",
    "$$\n",
    "\n",
    "Let $\\Phi$ be the sequential algorithm to parallize : \n",
    "</h3> \n",
    "<img src=\"data/algo000.png\"/>\n",
    "<!--br><br><br><br><br><br><br><br><br><br><br><br><br><br><br><br><br-->"
   ]
  },
  {
   "cell_type": "code",
   "execution_count": 37,
   "metadata": {
    "slideshow": {
     "slide_type": "slide"
    }
   },
   "outputs": [
    {
     "name": "stdout",
     "output_type": "stream",
     "text": [
      " x =  [2.0, 1.0, 2.0]\n"
     ]
    }
   ],
   "source": [
    "#Solving Triangulair Linear Equations System (TLES) \n",
    "def solve_TLES(A,b):                          # Sequential algorithm\n",
    "    x = [0]*len(A)\n",
    "    for i in range(0,len(A)):\n",
    "        x[i] = b[i]/A[i][i]                   # Task_ii\n",
    "        for j in range(i+1,3): \n",
    "            b[j] -= A[j][i] * x[i]            # Task_ij\n",
    "    return x\n",
    "\n",
    "#test\n",
    "A = [[1,0,0],\n",
    "     [2,3,0],\n",
    "     [4, 5,6]] \n",
    "b =[2,7,25]\n",
    "x = solve_TLES(a, b)\n",
    "print(\" x = \", x)"
   ]
  },
  {
   "cell_type": "markdown",
   "metadata": {
    "slideshow": {
     "slide_type": "slide"
    }
   },
   "source": [
    "<a id=\"c13102\"></a>\n",
    "\n",
    "[<](#c13101) - [>](#c13103)\n",
    "<font size=\"3\">\n",
    "    &nbsp;&nbsp;&nbsp;&nbsp; \n",
    "    <b><span style=\"color:blue\">Phd : DAGonNUMA > [1] Domain & Problematic > [1.3] DAG </span></b>\n",
    "</font>\n",
    "<hr>\n",
    "\n",
    "\n",
    "<h2>1- Tasks decompositon (Computation)</h2>\n",
    "<h3>\n",
    "- What are the tasks in $\\Phi$ ?<br>\n",
    "- What is the size of the selected tasks (Granularity Coarse / Thin) : $ \\textbf{TK}_{rk} : \\text{ code_block } $<br>\n",
    "- Result of this step the tasks set $T^*(\\Phi)$<br>\n",
    "</h3>\n",
    "\n",
    "<h2>Example Demo</h2>\n",
    "<img src=\"data/algo001.png\"/>"
   ]
  },
  {
   "cell_type": "markdown",
   "metadata": {
    "slideshow": {
     "slide_type": "slide"
    }
   },
   "source": [
    "<a id=\"c13103\"></a>\n",
    "\n",
    "[<](#c13102) - [>](#c13104)\n",
    "<font size=\"3\">\n",
    "    &nbsp;&nbsp;&nbsp;&nbsp; \n",
    "    <b><span style=\"color:blue\">Phd : DAGonNUMA > [1] Domain & Problematic > [1.3] DAG </span></b>\n",
    "</font>\n",
    "<hr>\n",
    "\n",
    "\n",
    "<h2>2- Dependency analysis (Communication)</h2>\n",
    "<h3>\n",
    "The task $T$ is characterized by :<br>\n",
    "- $In(T)$    : read variables set <br>\n",
    "- $Out(T)$  : write variables set<br>\n",
    "<br>\n",
    "- Shared variables : $SV(T,T') = ((Out(T) \\cap Out(T')) \\cup (Out(T) \\cap In(T')) \\cup (Out(T') \\cap In(T))$<br>\n",
    "- Dependent Tasks : share variables $T \\bot T' \\iff SV(T,T') \\neq \\emptyset$<br>\n",
    "- Precedence Relation : execution causality : $T \\prec T' \\iff (T \\bot T') \\& T \\leq_{seq} T'$<br>\n",
    "</h3>\n",
    "\n",
    "<h2>Example Demo</h2>\n",
    "<h3>\n",
    "$T_{1,2} : b_2 = b_2 - a_{1,2}x_1$ & $T_{1,1} : x_1 = \\frac{b_1}{a_{1,1}}$ we have $T_{1,1} \\prec T_{1,2}$\n",
    "</h3>"
   ]
  },
  {
   "cell_type": "markdown",
   "metadata": {
    "slideshow": {
     "slide_type": "slide"
    }
   },
   "source": [
    "<a id=\"c13104\"></a>\n",
    "\n",
    "[<](#c13103) - [>](#c13105)\n",
    "<font size=\"3\">\n",
    "    &nbsp;&nbsp;&nbsp;&nbsp; \n",
    "    <b><span style=\"color:blue\">Phd : DAGonNUMA > [1] Domain & Problematic > [1.3] DAG </span></b>\n",
    "</font>\n",
    "<hr>\n",
    "\n",
    "<h2>Task Graph</h2>\n",
    "\n",
    "<h3>\n",
    "$\\prec$ defines Partial order on $T^*(\\Phi)$ <br><br>\n",
    "- <b>DAG</b> : This order is represented by directed acyclic graphe (DAG) $G = (\\mathbb{T},\\mathbb{E})$ such : <br>\n",
    "$\\mathbb{T}$ = Tasks set $T^*(\\Phi)$. and $e=(T,T') \\in \\mathbb{E} \\iff T \\prec T'$\n",
    "</h3>\n",
    "\n",
    "<img src=\"data/dagprop002.png\"/>\n"
   ]
  },
  {
   "cell_type": "markdown",
   "metadata": {
    "slideshow": {
     "slide_type": "slide"
    }
   },
   "source": [
    "<a id=\"c13105\"></a>\n",
    "\n",
    "[<](#c13104) - [>](#c2)\n",
    "<font size=\"3\">\n",
    "    &nbsp;&nbsp;&nbsp;&nbsp; \n",
    "    <b><span style=\"color:blue\">Phd : DAGonNUMA > [1] Domain & Problematic > [1.3] DAG </span></b>\n",
    "</font>\n",
    "<hr>\n",
    "\n",
    "<h3>Let DAG $G(V,E,w,c)$ task graph describing a given parallel application to run on the platform $\\mathbb{P}$</h3>\n",
    "<h2>3- Scheduling</h2>\n",
    "<h3>$\\textbf{Task Scheduling}$ of $G$ is the function $\\theta$ that maps each task to its $\\textbf{start time}$ : </h3>\n",
    "\\begin{align*}\n",
    "  \\theta \\colon \\mathbb{T} & \\to \\mathbb{R}\\\\\n",
    "  T                    & \\mapsto t_s = \\theta(T)\\\\\n",
    "  s.t & \\quad \\forall (T, T') \\in \\mathbb{E}, \\quad \\theta(T) + w(T) < \\theta(T')\n",
    "\\end{align*}\n",
    "</h3>\n",
    "\n",
    "<h2>4- Mapping</h2>\n",
    "<h3>$\\textbf{Processor Mapping}$ is function $\\pi$ that maps to each task to a processor to run on in the execution platform $\\mathbb{P}$ :</h3> \n",
    "\\begin{align*}\n",
    "  \\pi \\colon \\mathbb{T} & \\to \\mathbb{P}\\\\\n",
    "  v_i                    & \\mapsto p_j = \\pi(v_i)\\\\\n",
    "  s.t & \\quad \\forall (T,T') \\in \\mathbb{T}^2, \\pi(T) = \\pi(T') \\implies (\\theta(T)+ w(T) < \\theta(T')) \\quad or \\quad (\\theta(T')+ w(T') < \\theta(T))\n",
    "\\end{align*} \n",
    "<!--subject to (\\textbf{causality principal}) :  \\forall (T, T') \\in \\mathbb{E}, \\quad \\theta(T) + w(T) < \\theta(T')\n",
    "subject to (\\textbf{no overlap principal}) : \n",
    "\\forall (T,T') \\in \\mathbb{T}^2, \\pi(T) = \\pi(T') \\implies (\\theta(T)+ w(T)  \\theta(T')) \\quad or \\quad (\\theta(T')+ w(T') \\theta(T))-->\n",
    "<img src=\"data/dag0060.png\"/>"
   ]
  },
  {
   "cell_type": "markdown",
   "metadata": {
    "slideshow": {
     "slide_type": "slide"
    }
   },
   "source": [
    "<a id=\"c2\"></a>\n",
    "\n",
    "[<](#c13105) - [>](#c21)\n",
    "<font size=\"3\">\n",
    "    &nbsp;&nbsp;&nbsp;&nbsp; \n",
    "    <b><span style=\"color:blue\">Phd : DAGonNUMA > [2] State of Art DAG Tasks Scheduling & Data Placement on NUMA</span></b>\n",
    "</font>\n",
    "<hr>\n",
    "\n",
    "<h2><b>[2] State of Art DAG Tasks Scheduling & Data Placement on NUMA</b></h2>\n",
    "<h3>\n",
    "[2.1] Approaches charcteristics<br><br>\n",
    "[2.2] Placement based approaches<br><br>\n",
    "[2.3] Scheduling based approaches<br><br>\n",
    "[2.4] Scheduling & Placement based approaches<br><br>\n",
    "[2.5] Laod balancing strategies\n",
    "</h3>\n",
    "<br><br><br><br><br><br><br><br><br><br><br><br><br><br><br><br><br><br>"
   ]
  },
  {
   "cell_type": "markdown",
   "metadata": {
    "slideshow": {
     "slide_type": "slide"
    }
   },
   "source": [
    "<a id=\"c21\"></a>\n",
    "\n",
    "[<](#c2) - [>](#c22)\n",
    "<font size=\"3\">\n",
    "    &nbsp;&nbsp;&nbsp;&nbsp; \n",
    "    <b><span style=\"color:blue\">Phd : DAGonNUMA > [2] State of Art DAG Tasks Scheduling & Data Placement on NUMA</span></b>\n",
    "</font>\n",
    "<hr>\n",
    "\n",
    "<h2><b>[2.1] Approaches charcteristics</b></h2>\n",
    "<h3>\n",
    "[2.2] Placement based approaches<br><br>\n",
    "[2.3] Scheduling based approaches<br><br>\n",
    "[2.4] Scheduling & Placement based approaches<br><br>\n",
    "[2.5] Laod balancing strategies\n",
    "</h3>\n",
    "<br><br><br><br><br><br><br><br><br><br><br><br><br><br><br><br><br><br>"
   ]
  },
  {
   "cell_type": "markdown",
   "metadata": {
    "slideshow": {
     "slide_type": "slide"
    }
   },
   "source": [
    "<a id=\"c22\"></a>\n",
    "\n",
    "[<](#c21) - [>](#c23)\n",
    "<font size=\"3\">\n",
    "    &nbsp;&nbsp;&nbsp;&nbsp; \n",
    "    <b><span style=\"color:blue\">Phd : DAGonNUMA > [2] State of Art DAG Tasks Scheduling & Data Placement on NUMA</span></b>\n",
    "</font>\n",
    "<hr>\n",
    "\n",
    "<h2><b>[2.2] Placement based approaches</b></h2>\n",
    "<h3>\n",
    "[2.3] Scheduling based approaches<br><br>\n",
    "[2.4] Scheduling & Placement based approaches<br><br>\n",
    "[2.5] Laod balancing strategies\n",
    "</h3>\n",
    "<br><br><br><br><br><br><br><br><br><br><br><br><br><br><br><br><br><br>"
   ]
  },
  {
   "cell_type": "markdown",
   "metadata": {
    "slideshow": {
     "slide_type": "slide"
    }
   },
   "source": [
    "<a id=\"c23\"></a>\n",
    "\n",
    "[<](#c22) - [>](#c24)\n",
    "<font size=\"3\">\n",
    "    &nbsp;&nbsp;&nbsp;&nbsp; \n",
    "    <b><span style=\"color:blue\">Phd : DAGonNUMA > [2] State of Art DAG Tasks Scheduling & Data Placement on NUMA</span></b>\n",
    "</font>\n",
    "<hr>\n",
    "\n",
    "<h2><b>[2.3] Scheduling based approaches</b></h2>\n",
    "<h3>\n",
    "<br><br>\n",
    "[2.4] Scheduling & Placement based approaches<br><br>\n",
    "[2.5] Laod balancing strategies\n",
    "</h3>\n",
    "<br><br><br><br><br><br><br><br><br><br><br><br><br><br><br><br><br><br>"
   ]
  },
  {
   "cell_type": "markdown",
   "metadata": {
    "slideshow": {
     "slide_type": "slide"
    }
   },
   "source": [
    "<a id=\"c24\"></a>\n",
    "\n",
    "[<](#c23) - [>](#c25)\n",
    "<font size=\"3\">\n",
    "    &nbsp;&nbsp;&nbsp;&nbsp; \n",
    "    <b><span style=\"color:blue\">Phd : DAGonNUMA > [2] State of Art DAG Tasks Scheduling & Data Placement on NUMA</span></b>\n",
    "</font>\n",
    "<hr>\n",
    "\n",
    "<h2><b>[2.4] Scheduling & Placement based approaches</b></h2>\n",
    "<h3>\n",
    "<br><br>\n",
    "<br><br>\n",
    "[2.5] Laod balancing strategies\n",
    "</h3>\n",
    "<br><br><br><br><br><br><br><br><br><br><br><br><br><br><br><br><br><br>"
   ]
  },
  {
   "cell_type": "markdown",
   "metadata": {
    "slideshow": {
     "slide_type": "slide"
    }
   },
   "source": [
    "<a id=\"c25\"></a>\n",
    "\n",
    "[<](#c24) - [>](#c3)\n",
    "<font size=\"3\">\n",
    "    &nbsp;&nbsp;&nbsp;&nbsp; \n",
    "    <b><span style=\"color:blue\">Phd : DAGonNUMA > [2] State of Art DAG Tasks Scheduling & Data Placement on NUMA</span></b>\n",
    "</font>\n",
    "<hr>\n",
    "\n",
    "<h2><b>[2.5] Laod balancing strategies</b></h2>\n",
    "<h3>\n",
    "<br><br>\n",
    "<br><br>\n",
    "\n",
    "</h3>\n",
    "<br><br><br><br><br><br><br><br><br><br><br><br><br><br><br><br><br><br>"
   ]
  },
  {
   "cell_type": "markdown",
   "metadata": {
    "slideshow": {
     "slide_type": "slide"
    }
   },
   "source": [
    "<a id=\"c3\"></a>\n",
    "\n",
    "[<](#c25) - [>](#c31)\n",
    "<font size=\"3\">\n",
    "    &nbsp;&nbsp;&nbsp;&nbsp; \n",
    "    <b><span style=\"color:blue\">Phd : DAGonNUMA > [3] Contributions</span></b>\n",
    "</font>\n",
    "<hr>\n",
    "\n",
    "<h2><b>[3] Contributions</b></h2>\n",
    "<h3>\n",
    "[3.1] Scheduling / Placement generic schemas<br><br>\n",
    "[3.2] Impact of policies combination on independant tasks<br><br>\n",
    "[3.3] NUMA Adapted Execution Horizon for DAG-Applications<br><br>\n",
    "[3.4] Distance based Work stealing for LB on NUMA\n",
    "</h3>\n",
    "<br><br><br><br><br><br><br><br><br><br><br><br><br><br><br><br><br><br><br><br><br><br><br><br><br><br><br>"
   ]
  },
  {
   "cell_type": "markdown",
   "metadata": {
    "slideshow": {
     "slide_type": "slide"
    }
   },
   "source": [
    "<a id=\"c31\"></a>\n",
    "\n",
    "[<](#c3) - [>](#c32)\n",
    "<font size=\"3\">\n",
    "    &nbsp;&nbsp;&nbsp;&nbsp; \n",
    "    <b><span style=\"color:blue\">Phd : DAGonNUMA > [3] Contributions</span></b>\n",
    "</font>\n",
    "<hr>\n",
    "\n",
    "<h2><b>[3.1] Scheduling / Placement generic schemas</b></h2>\n",
    "<h3>\n",
    "<br><br>\n",
    "[3.2] Impact of policies combination on independant tasks<br><br>\n",
    "[3.3] NUMA Adapted Execution Horizon for DAG-Applications<br><br>\n",
    "[3.4] Distance based Work stealing for LB on NUMA\n",
    "</h3>\n",
    "<br><br><br><br><br><br><br><br><br><br><br><br><br><br><br><br><br><br><br><br><br><br><br><br><br><br><br>"
   ]
  },
  {
   "cell_type": "markdown",
   "metadata": {
    "slideshow": {
     "slide_type": "slide"
    }
   },
   "source": [
    "<a id=\"c3\"></a>\n",
    "\n",
    "[<](#c2) - [>](#c4)\n",
    "<font size=\"3\">\n",
    "    &nbsp;&nbsp;&nbsp;&nbsp; \n",
    "    <b><span style=\"color:blue\">Phd : DAGonNUMA > [3] Contributions</span></b>\n",
    "</font>\n",
    "<hr>\n",
    "\n",
    "<h2><b>[3.2] Impact of policies combination on independant tasks</b></h2>\n",
    "<h3>\n",
    "<br><br>\n",
    "<br><br>\n",
    "[3.3] NUMA Adapted Execution Horizon for DAG-Applications<br><br>\n",
    "[3.4] Distance based Work stealing for LB on NUMA\n",
    "</h3>\n",
    "<br><br><br><br><br><br><br><br><br><br><br><br><br><br><br><br><br><br><br><br><br><br><br><br><br><br><br>"
   ]
  },
  {
   "cell_type": "markdown",
   "metadata": {
    "slideshow": {
     "slide_type": "slide"
    }
   },
   "source": [
    "<a id=\"c3\"></a>\n",
    "\n",
    "[<](#c2) - [>](#c4)\n",
    "<font size=\"3\">\n",
    "    &nbsp;&nbsp;&nbsp;&nbsp; \n",
    "    <b><span style=\"color:blue\">Phd : DAGonNUMA > [3] Contributions</span></b>\n",
    "</font>\n",
    "<hr>\n",
    "\n",
    "<h2><b>[3.3] NUMA Adapted Execution Horizon for DAG-Applications</b></h2>\n",
    "<h3>\n",
    "<br><br>\n",
    "<br><br>\n",
    "<br><br>\n",
    "[3.4] Distance based Work stealing for LB on NUMA\n",
    "</h3>\n",
    "<br><br><br><br><br><br><br><br><br><br><br><br><br><br><br><br><br><br><br><br><br><br><br><br><br><br><br>"
   ]
  },
  {
   "cell_type": "markdown",
   "metadata": {
    "slideshow": {
     "slide_type": "slide"
    }
   },
   "source": [
    "<a id=\"c3\"></a>\n",
    "\n",
    "[<](#c2) - [>](#c4)\n",
    "<font size=\"3\">\n",
    "    &nbsp;&nbsp;&nbsp;&nbsp; \n",
    "    <b><span style=\"color:blue\">Phd : DAGonNUMA > [3] Contributions</span></b>\n",
    "</font>\n",
    "<hr>\n",
    "\n",
    "<h2><b>[3.4] Distance based Work stealing for LB on NUMA</b></h2>\n",
    "<h3>\n",
    "<br><br>\n",
    "<br><br>\n",
    "<br><br>\n",
    "\n",
    "</h3>\n",
    "<br><br><br><br><br><br><br><br><br><br><br><br><br><br><br><br><br><br><br><br><br><br><br><br><br><br><br>"
   ]
  },
  {
   "cell_type": "markdown",
   "metadata": {
    "slideshow": {
     "slide_type": "slide"
    }
   },
   "source": [
    "<a id=\"c4\"></a>\n",
    "\n",
    "[<](#c3) - [>](#c5)\n",
    "<font size=\"3\">\n",
    "    &nbsp;&nbsp;&nbsp;&nbsp; \n",
    "    <b><span style=\"color:blue\">Phd : DAGonNUMA > [4] Simulation & Results analysis</span></b>\n",
    "</font>\n",
    "<hr>\n",
    "\n",
    "<h2><b>[4] Simulation & Results analysis</b></h2>\n",
    "<h3>\n",
    "[4.1] NUMA simulator HLSMN<br><br>\n",
    "[4.2] Policies combinition for inpendant Tasks scenarios<br><br>\n",
    "[4.3] XH-XVHFU heuristic scheduling/placement scenarios<br><br>\n",
    "[4.4] Distance based WS base LB scenarios\n",
    "</h3>\n",
    "<br><br><br><br><br><br><br><br><br><br><br><br><br><br><br><br><br><br>"
   ]
  },
  {
   "cell_type": "markdown",
   "metadata": {
    "slideshow": {
     "slide_type": "slide"
    }
   },
   "source": [
    "<a id=\"c4\"></a>\n",
    "\n",
    "[<](#c3) - [>](#c5)\n",
    "<font size=\"3\">\n",
    "    &nbsp;&nbsp;&nbsp;&nbsp; \n",
    "    <b><span style=\"color:blue\">Phd : DAGonNUMA > [4] Simulation & Results analysis</span></b>\n",
    "</font>\n",
    "<hr>\n",
    "\n",
    "<h2><b>[4.1] NUMA simulator HLSMN</b></h2>\n",
    "<h3>\n",
    "<br><br>\n",
    "[4.2] Policies combinition for inpendant Tasks scenarios<br><br>\n",
    "[4.3] XH-XVHFU heuristic scheduling/placement scenarios<br><br>\n",
    "[4.4] Distance based WS base LB scenarios\n",
    "</h3>\n",
    "<br><br><br><br><br><br><br><br><br><br><br><br><br><br><br><br><br><br>"
   ]
  },
  {
   "cell_type": "markdown",
   "metadata": {
    "slideshow": {
     "slide_type": "slide"
    }
   },
   "source": [
    "<a id=\"c4\"></a>\n",
    "\n",
    "[<](#c3) - [>](#c5)\n",
    "<font size=\"3\">\n",
    "    &nbsp;&nbsp;&nbsp;&nbsp; \n",
    "    <b><span style=\"color:blue\">Phd : DAGonNUMA > [4] Simulation & Results analysis</span></b>\n",
    "</font>\n",
    "<hr>\n",
    "\n",
    "<h2><b>[4.2] Policies combinition for inpendant Tasks scenarios</b></h2>\n",
    "<h3>\n",
    "<br><br>\n",
    "<br><br>\n",
    "[4.3] XH-XVHFU heuristic scheduling/placement scenarios<br><br>\n",
    "[4.4] Distance based WS base LB scenarios\n",
    "</h3>\n",
    "<br><br><br><br><br><br><br><br><br><br><br><br><br><br><br><br><br><br>"
   ]
  },
  {
   "cell_type": "markdown",
   "metadata": {
    "slideshow": {
     "slide_type": "slide"
    }
   },
   "source": [
    "<a id=\"c4\"></a>\n",
    "\n",
    "[<](#c3) - [>](#c5)\n",
    "<font size=\"3\">\n",
    "    &nbsp;&nbsp;&nbsp;&nbsp; \n",
    "    <b><span style=\"color:blue\">Phd : DAGonNUMA > [4] Simulation & Results analysis</span></b>\n",
    "</font>\n",
    "<hr>\n",
    "\n",
    "<h2><b>[4.3] XH-XVHFU heuristic scheduling/placement scenarios</b></h2>\n",
    "<h3>\n",
    "<br><br>\n",
    "<br><br>\n",
    "<br><br>\n",
    "[4.4] Distance based WS base LB scenarios\n",
    "</h3>\n",
    "<br><br><br><br><br><br><br><br><br><br><br><br><br><br><br><br><br><br>"
   ]
  },
  {
   "cell_type": "markdown",
   "metadata": {
    "slideshow": {
     "slide_type": "slide"
    }
   },
   "source": [
    "<a id=\"c4\"></a>\n",
    "\n",
    "[<](#c3) - [>](#c5)\n",
    "<font size=\"3\">\n",
    "    &nbsp;&nbsp;&nbsp;&nbsp; \n",
    "    <b><span style=\"color:blue\">Phd : DAGonNUMA > [4] Simulation & Results analysis</span></b>\n",
    "</font>\n",
    "<hr>\n",
    "\n",
    "<h2><b>[4.4] Distance based WS base LB scenarios</b></h2>\n",
    "<h3>\n",
    "<br><br>\n",
    "<br><br>\n",
    "<br><br>\n",
    "\n",
    "</h3>\n",
    "<br><br><br><br><br><br><br><br><br><br><br><br><br><br><br><br><br><br>"
   ]
  },
  {
   "cell_type": "markdown",
   "metadata": {
    "slideshow": {
     "slide_type": "slide"
    }
   },
   "source": [
    "<a id=\"c5\"></a>\n",
    "\n",
    "[<](#c4)\n",
    "<font size=\"3\">\n",
    "    &nbsp;&nbsp;&nbsp;&nbsp; \n",
    "    <b><span style=\"color:blue\">Phd : DAGonNUMA > [5] Conclusion & Perspectives</span></b>\n",
    "</font>\n",
    "<hr>\n",
    "\n",
    "<h2><b>[5] Conclusion & Perspectives</b></h2>\n",
    "<h3>\n",
    "[5.1] Thesis<br><br>\n",
    "- Studied problem : <i>Scheduling of DAG based parallel applicattion with data placement on NUMA platform.</i><br>\n",
    "- Subproblem 1 : Tasks scheduling & mapping on NUMA nodes (processors/cores) </i><br>\n",
    "- Subproblem 2 : Data placement on nodes memories</i><br>\n",
    "- Subproblem 3 : Load balancing in this ddynamic contexte</i><br>\n",
    "- Objectif : find near optimal scheduling/placement in the contexte of NUMA for DAG with balanced load</i><br>\n",
    "\n",
    "[5.2] Results<br><br>\n",
    "- independant tasks : <i>Scheduling of DAG based parallel applicattion with data placement on NUMA platform.</i><br>\n",
    "- NUMA execution Horizon : Tasks scheduling & mapping on NUMA nodes (processors/cores) </i><br>\n",
    "- Distance based Work Stealing : Data placement on nodes memories</i><br>\n",
    "\n",
    "[5.3] Limits<br><br>\n",
    "- Simulation : <i>Scheduling of DAG based parallel applicattion with data placement.</i><br>\n",
    "- Statistics : Tasks scheduling & mapping on NUMA nodes (processors/cores) </i><br>\n",
    "- Synthetic DAGs : Data placement on nodes memories</i><br>\n",
    "\n",
    "[5.4] Perspectives\n",
    "- No Simulation Real NUMA : <i>Scheduling of DAG based parallel applicattion with data.</i><br>\n",
    "- Using Real Apps : Tasks scheduling & mapping on NUMA nodes (processors/cores) </i><br>\n",
    "- theoritical Analysis : Data placement on nodes memories</i><br>\n",
    "</h3>\n",
    "<br><br><br><br><br><br><br><br><br><br><br><br><br><br><br><br><br><br>"
   ]
  },
  {
   "cell_type": "markdown",
   "metadata": {
    "slideshow": {
     "slide_type": "slide"
    }
   },
   "source": [
    "[<](#c124)\n",
    "<img src=\"data/thanks00.jpg\"/>"
   ]
  }
 ],
 "metadata": {
  "kernelspec": {
   "display_name": "Python 3",
   "language": "python",
   "name": "python3"
  },
  "language_info": {
   "codemirror_mode": {
    "name": "ipython",
    "version": 3
   },
   "file_extension": ".py",
   "mimetype": "text/x-python",
   "name": "python",
   "nbconvert_exporter": "python",
   "pygments_lexer": "ipython3",
   "version": "3.6.4"
  }
 },
 "nbformat": 4,
 "nbformat_minor": 2
}
