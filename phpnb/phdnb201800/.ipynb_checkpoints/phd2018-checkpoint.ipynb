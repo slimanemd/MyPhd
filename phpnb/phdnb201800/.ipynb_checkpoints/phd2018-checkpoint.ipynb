{
 "cells": [
  {
   "cell_type": "markdown",
   "metadata": {
    "slideshow": {
     "slide_type": "slide"
    }
   },
   "source": [
    "<a id=\"home\"></a>\n",
    "[>](#bs)\n",
    "<img src='data/uoran001.PNG'>\n",
    "<br><br><br><br><br>\n",
    "<center>\n",
    "    <h3>PHD Thesis - Computer Science</h3>\n",
    "    <br>\n",
    "    <h1><b><span style=\"color:blue\">\n",
    "Scheduling of Task Graph (DAG)<br>with Data Placement on Multicore NUMA Platform\n",
    "</span></b><br><br></h1>\n",
    "    \n",
    "    \n",
    "    <!--h4>Submitted by : </h4> <h2>Mohammed SLIMANE </h2>\n",
    "    <h4>Supervised by :</h4> <h2>Pr. Larbi SEKHRI</h2-->   \n",
    "</center>\n",
    "\n",
    "\n",
    "|                                                       |                                                     |\n",
    "|-------------------------------------------------------| ----------------------------------------------------|\n",
    "|   <h4>Presented by : </h4> <h2>Mohammed SLIMANE </h2> | <h4>Supervised by :</h4> <h2>Pr. Larbi SEKHRI</h2>  |\n",
    "<br><br><br><br><br><br><br><br><br><br><br><br><br><br><br><br><br><br><br><br><br><br>"
   ]
  },
  {
   "cell_type": "markdown",
   "metadata": {
    "slideshow": {
     "slide_type": "slide"
    }
   },
   "source": [
    "<br>\n",
    "<a id=\"bs\"></a>\n",
    "\n",
    "[<](#home) - [>](#toc)\n",
    "<center>\n",
    "<br><br><br><br><br><br><br><br>\n",
    "<img src='data/bismi004.png'>\n",
    "<br><br><br><br><br><br><br><br><br><br><br><br><br><br><br><br><br><br><br><br><br><br><br><br><br>\n",
    "</center>"
   ]
  },
  {
   "cell_type": "markdown",
   "metadata": {
    "slideshow": {
     "slide_type": "slide"
    }
   },
   "source": [
    "<a id=\"toc\"></a>\n",
    "<font size=\"3\">\n",
    "    <b><span style=\"color:blue\">[<](#bs) - [>](#pb0)\n",
    "    &nbsp;&nbsp;&nbsp;&nbsp; Goto : [ [01](#pb0)- [02](#archpar)- [03](#numa)- [04](#dag0)- [05](#task)- [06](#dpd)- [07](#sch)- [08](#penalityNuma)- [09](#state)- [10](#loadbal)- [11](#contributions)- [12](#indpdTK)- [13](#ExeHorizon)- [14](#DAGPartitionning)- [15](#XXH)- [16](#XXH2)- [17](#XXH3)- [18](#XXH4)- [19](#dbws)- [20](#sim)- [21](#SimCombin)- [22](#SimXXH)- [23](#SimXXHCmax)- [24](#SimXXHPNuma)- [25](#SimDbWS)- [26](#Conclusion)- [27](#Productions) ]  </span></b>\n",
    "</font>\n",
    "<hr>\n",
    "\n",
    "<h2><b>Table of Content</b></h2>\n",
    "\n",
    "&nbsp;&nbsp;&nbsp;&nbsp;&nbsp;&nbsp;[+](#c1) <b><font size=\"+1\">[1]. Domain & Problematic</font></b><br><br>\n",
    "&nbsp;&nbsp;&nbsp;&nbsp;&nbsp;&nbsp;[+](#c2) <b><font size=\"+1\">[2]. State of Art</font></b><br><br>\n",
    "&nbsp;&nbsp;&nbsp;&nbsp;&nbsp;&nbsp;[+](#c3) <b><font size=\"+1\">[3]. Contribution</font></b><br><br>\n",
    "&nbsp;&nbsp;&nbsp;&nbsp;&nbsp;&nbsp;[+](#c4) <b><font size=\"+1\">[4]. Simulation & Tests</font></b><br><br>\n",
    "&nbsp;&nbsp;&nbsp;&nbsp;&nbsp;&nbsp;[+](#c5) <b><font size=\"+1\">[5]. Conclusion & Perspectives</font></b><br><br>\n",
    "<br><br><br><br><br><br><br><br><br><br><br><br><br><br><br><br><br><br><br><br><br><br><br><br><br><br>"
   ]
  },
  {
   "cell_type": "markdown",
   "metadata": {
    "slideshow": {
     "slide_type": "slide"
    }
   },
   "source": [
    "<a id=\"pb0\"></a>\n",
    "\n",
    "<font size=\"3\">\n",
    "    <b><span style=\"color:blue\">[toc](#toc) - [<](#toc) - Page 01 - [>](#archpar)\n",
    "    &nbsp;&nbsp;&nbsp;&nbsp; - Phd : DAG Scheduling with Data Placement on NUMA Multicore Platform</span></b>\n",
    "</font>\n",
    "<hr>\n",
    "\n",
    "<h2><b>DAG scheduling with Data placement on NUMA platform</b></h2>\n",
    "<br>\n",
    "\n",
    "|       |\n",
    "|:-----|\n",
    "|<h1>*How to run DAG based parallel application on NUMA architecture &nbsp;&nbsp;&nbsp;&nbsp;&nbsp;&nbsp;           <br>while &nbsp;&nbsp;&nbsp;&nbsp;&nbsp;&nbsp; &nbsp;&nbsp;&nbsp;&nbsp;&nbsp;&nbsp; &nbsp;&nbsp;&nbsp;&nbsp;&nbsp;&nbsp; &nbsp;&nbsp;&nbsp;&nbsp;&nbsp;&nbsp; &nbsp;&nbsp;&nbsp;&nbsp;&nbsp;&nbsp; &nbsp;&nbsp;&nbsp;&nbsp;&nbsp;&nbsp; &nbsp;&nbsp;&nbsp;&nbsp;&nbsp;&nbsp;                                          <br> - we take benefit from its scalabilty aspect &nbsp;&nbsp;&nbsp;&nbsp;&nbsp;&nbsp; &nbsp;&nbsp;&nbsp;&nbsp;&nbsp;&nbsp; &nbsp;&nbsp;&nbsp;&nbsp;&nbsp;&nbsp;&nbsp;&nbsp;&nbsp;&nbsp;&nbsp;&nbsp;&nbsp;&nbsp;&nbsp;&nbsp;&nbsp;                                          <br>- we avoid/reduce its penality as possible as we can ?&nbsp;&nbsp;&nbsp;&nbsp;&nbsp;&nbsp; &nbsp;&nbsp;&nbsp;&nbsp;&nbsp;&nbsp;* </h1>|\n",
    "<!--img src=\"dag00.png\" width=\"60%\"/-->\n",
    "<img src=\"data/numa01.jpg\" width=\"65%\"/>\n",
    "[source : https://www.supermicro.com/manuals/motherboard/5500/MNL-1083.pdf]\n",
    "<br><br><br><br><br><br><br><br><br><br><br><br><br><br><br><br><br><br><br><br><br><br><br><br>"
   ]
  },
  {
   "cell_type": "markdown",
   "metadata": {
    "slideshow": {
     "slide_type": "slide"
    }
   },
   "source": [
    "<a id=\"archpar\"></a>\n",
    "\n",
    "<font size=\"3\">\n",
    "    <b><span style=\"color:blue\">[toc](#toc) - [<](#pb0) - Page 02 - [>](#numa)\n",
    "    &nbsp;&nbsp;&nbsp;&nbsp; - Phd : DAG Scheduling with Data Placement on NUMA Multicore Platform</span></b>\n",
    "</font>\n",
    "<hr>\n",
    "\n",
    "<h2>Single, MultiCore CPUs, UMA/NUMA platforms</h2>\n",
    "\n",
    "<!--h1>- MOORRE Law double number of transistors every 18 month -->\n",
    "<br><br>\n",
    "<img src=\"data/pf000.png\"/> \n",
    "<!--/h1-->\n",
    "\n",
    "<h3>\n",
    "- Single Core CPU :Moore, Performance race and Three walls (Free Lunch).<br><br>\n",
    "- Multicore revolution, (Manycore next) : Free lunch is Over <br><br>\n",
    "- Memory organisation based architectures UMA / NUMA<br><br>\n",
    "- Uniform Memory Access : Shared Bus and Scalability problem<br><br>\n",
    "<!--- Non Uniform Memory Access NUMA : Scalability solution and Penality Ratio<br><br-->\n",
    "</h3-->\n",
    "<br><br><br><br><br><br><br><br><br><br><br><br><br><br><br><br><br>"
   ]
  },
  {
   "cell_type": "markdown",
   "metadata": {
    "slideshow": {
     "slide_type": "slide"
    }
   },
   "source": [
    "<a id=\"numa\"></a>\n",
    "\n",
    "<font size=\"3\">\n",
    "    <b><span style=\"color:blue\">[toc](#toc) - [<](#archpar) - Page 03 - [>](#dag0)\n",
    "    &nbsp;&nbsp;&nbsp;&nbsp; - Phd : DAG Scheduling with Data Placement on NUMA Multicore Platform</span></b>\n",
    "</b>\n",
    "</font>\n",
    "<hr>\n",
    "\n",
    "<h2>Non Uniform Memory Access NUMA</h2>\n",
    "<img src=\"data/numa002010.png\"/>\n",
    "<img src=\"data/numa00202.png\"/>\n",
    "<!--h3>\n",
    "[1.3.1] Parallelization process & Task Graph<br><br>\n",
    "[1.3.2] Task Scheduling & Mapping<br><br>\n",
    "[1.3.3] Data placement and locality\n",
    "</h3-->\n",
    "<br><br><br><br><br><br><br><br><br><br><br><br><br><br><br><br><br>"
   ]
  },
  {
   "cell_type": "markdown",
   "metadata": {
    "slideshow": {
     "slide_type": "slide"
    }
   },
   "source": [
    "<a id=\"dag0\"></a>\n",
    "\n",
    "<font size=\"3\">\n",
    "    <b><span style=\"color:blue\">[toc](#toc) - [<](#numa) - Page 04 - [>](#task)\n",
    "    &nbsp;&nbsp;&nbsp;&nbsp; - Phd : DAG Scheduling with Data Placement on NUMA Multicore Platform</span></b>\n",
    "</font>\n",
    "<hr>\n",
    "\n",
    "<h2>Parallel applications & Task Graph</h2>\n",
    "\n",
    "<h3> Functionnal Parallelism</h3>\n",
    "<h3>\n",
    "- Task based parallel programming model (paradigm), <br>\n",
    "- Parallelization Processus based on <b>FOSTER</b> approach :\n",
    "</h3> \n",
    "<br>\n",
    "<img src=\"data/paraprc001.png\" width=\"100%\" />\n",
    "\n",
    "<!--h3>\n",
    "1- Tasks decompositon (Granularity)<br><br>\n",
    "2- Dependancy analysis (Precedence relation)<br><br>\n",
    "3- Scheduling (Start time)<br><br>\n",
    "4- Mapping (Execution resource allocation)\n",
    "</h3-->\n",
    "<br><br><br><br><br><br><br><br><br><br><br><br><br><br><br><br><br>"
   ]
  },
  {
   "cell_type": "markdown",
   "metadata": {
    "slideshow": {
     "slide_type": "slide"
    }
   },
   "source": [
    "<a id=\"task\"></a>\n",
    "\n",
    "<font size=\"3\">\n",
    "    <b><span style=\"color:blue\">[toc](#toc) - [<](#dag0) - Page 05 - [>](#dpd)\n",
    "    &nbsp;&nbsp;&nbsp;&nbsp; - Phd : DAG Scheduling with Data Placement on NUMA Multicore Platform</span></b>\n",
    "</font>\n",
    "<hr>\n",
    "\n",
    "<h2>Example</h2>\n",
    "<h3>Let $\\Phi$ be the sequential algorithm of Linear equations system solving to parallize :<br><br>\n",
    "$$\n",
    "x,b \\in \\mathbb{R}^n, A \\in \\mathbb{R}^{n \\times n} \\text{  (down side Triangular Matrix ) :} , A.x = B\n",
    "$$\n",
    "<img src=\"data/algo000.png\"/>\n",
    "</h3> \n",
    "\n",
    "<h2>1- Tasks decompositon (Computation)</h2>\n",
    "<h3>\n",
    "- What are the tasks in $\\Phi$ , its size (Granularity Coarse / Thin) : $ \\textbf{TK}_{rk} : \\text{ code_block } $<br>\n",
    "- Result of this step the tasks set $T^*(\\Phi)$\n",
    "</h3>\n",
    "\n",
    "<h3>Example Demo</h3>\n",
    "<img src=\"data/algo001.png\"/>\n",
    "<br><br><br><br><br><br><br><br><br><br><br><br><br><br><br><br><br>"
   ]
  },
  {
   "cell_type": "markdown",
   "metadata": {
    "slideshow": {
     "slide_type": "slide"
    }
   },
   "source": [
    "<a id=\"dpd\"></a>\n",
    "\n",
    "<font size=\"3\">\n",
    "    <b><span style=\"color:blue\">[toc](#toc) - [<](#task) - Page 06 - [>](#sch)\n",
    "    &nbsp;&nbsp;&nbsp;&nbsp; - Phd : DAG Scheduling with Data Placement on NUMA Multicore Platform</span></b>\n",
    "</font>\n",
    "<hr>\n",
    "\n",
    "\n",
    "<h2>2- Dependency analysis (Communication)</h2>\n",
    "<h3>\n",
    "The task $T$ is characterized by : $In(T)$ ($Out$)   : read (write) variables set<br>\n",
    "- Shared variables : $SV(T,T') = ((Out(T) \\cap Out(T')) \\cup (Out(T) \\cap In(T')) \\cup (Out(T') \\cap In(T))$<br>\n",
    "- Dependent Tasks : share variables $T \\bot T' \\iff SV(T,T') \\neq \\emptyset$<br>\n",
    "- Precedence Relation : execution causality : $T \\prec T' \\iff (T \\bot T') \\& T \\leq_{seq} T'$<br>\n",
    "- $\\prec$ defines Partial order on $T^*(\\Phi)$ <br><br>\n",
    "- <b>DAG</b> : This order is represented by directed acyclic graphe (DAG) $G = (\\mathbb{T},\\mathbb{E})$ such : <br>\n",
    "$\\mathbb{T}$ = Tasks set $T^*(\\Phi)$. and $e=(T,T') \\in \\mathbb{E} \\iff T \\prec T'$\n",
    "</h3>\n",
    "\n",
    "<h3>Example Demo : $T_{1,2} : b_2 = b_2 - a_{1,2}x_1$ & $T_{1,1} : x_1 = \\frac{b_1}{a_{1,1}}$ we have $T_{1,1} \\prec T_{1,2}$</h3>\n",
    "<img src=\"data/dagprop0022.png\"/>\n",
    "<br><br><br><br><br><br><br><br><br><br><br><br><br><br><br><br><br>"
   ]
  },
  {
   "cell_type": "markdown",
   "metadata": {
    "slideshow": {
     "slide_type": "slide"
    }
   },
   "source": [
    "<a id=\"sch\"></a>\n",
    "\n",
    "<font size=\"3\">\n",
    "    <b><span style=\"color:blue\">[toc](#toc) - [<](#dpd) - Page 07 - [>](#penalityNuma)\n",
    "    &nbsp;&nbsp;&nbsp;&nbsp; - Phd : DAG Scheduling with Data Placement on NUMA Multicore Platform</span></b>\n",
    "</font>\n",
    "<hr>\n",
    "\n",
    "<h3>Let DAG $G(V,E,w,c)$ task graph describing a given parallel application to run on the platform $\\mathbb{P}$</h3>\n",
    "<h2>3- Scheduling</h2>\n",
    "<h3>$\\textbf{Task Scheduling}$ of $G$ is the function $\\theta$ that maps each task to its $\\textbf{start time}$ : <br>\n",
    "\\begin{align*}\n",
    "  \\theta \\colon \\mathbb{T} & \\to \\mathbb{R}\\\\\n",
    "  T                    & \\mapsto t_s = \\theta(T)\\\\\n",
    "  s.t & \\quad \\forall (T, T') \\in \\mathbb{E}, \\quad \\theta(T) + w(T) < \\theta(T')\n",
    "\\end{align*}\n",
    "</h3>\n",
    "\n",
    "<h2>4- Mapping</h2>\n",
    "<h3>$\\textbf{Processor Mapping}$ is function $\\pi$ that maps to each task to an execution resource (Node, CPU, Core) :</h3> \n",
    "<h3> \n",
    "\\begin{align*}\n",
    "  \\pi \\colon \\mathbb{T} & \\to \\mathbb{P}\\\\\n",
    "  v_i                    & \\mapsto p_j = \\pi(v_i)\\\\\n",
    "  s.t & \\quad \\forall (T,T') \\in \\mathbb{T}^2, \\pi(T) = \\pi(T') \\implies (\\theta(T)+ w(T) < \\theta(T')) \\quad or \\quad (\\theta(T')+ w(T') < \\theta(T))\n",
    "\\end{align*} \n",
    "</h3>\n",
    "<!--subject to (\\textbf{causality principal}) :  \\forall (T, T') \\in \\mathbb{E}, \\quad \\theta(T) + w(T) < \\theta(T')\n",
    "subject to (\\textbf{no overlap principal}) : \n",
    "\\forall (T,T') \\in \\mathbb{T}^2, \\pi(T) = \\pi(T') \\implies (\\theta(T)+ w(T)  \\theta(T')) \\quad or \\quad (\\theta(T')+ w(T') \\theta(T))-->\n",
    "<img src=\"data/dag0060.png\"/>\n",
    "<br><br><br><br><br><br><br><br><br><br><br><br><br><br><br><br><br>"
   ]
  },
  {
   "cell_type": "markdown",
   "metadata": {
    "slideshow": {
     "slide_type": "slide"
    }
   },
   "source": [
    "<a id=\"penalityNuma\"></a>\n",
    "\n",
    "<font size=\"3\">\n",
    "    <b><span style=\"color:blue\">[toc](#toc) - [<](#sch) - Page 08 - [>](#state)\n",
    "    &nbsp;&nbsp;&nbsp;&nbsp; - Phd : DAG Scheduling with Data Placement on NUMA Multicore Platform</span></b>\n",
    "</font>\n",
    "<hr>\n",
    "\n",
    "<h3>NUMA Penality and Data Locality / Affinity</h3>\n",
    "<img src=\"data/num0101.png\"/>\n",
    "<br><br><br><br><br><br><br><br><br><br><br><br><br><br><br><br><br>"
   ]
  },
  {
   "cell_type": "markdown",
   "metadata": {
    "slideshow": {
     "slide_type": "slide"
    }
   },
   "source": [
    "<a id=\"state\"></a>\n",
    "\n",
    "<font size=\"3\">\n",
    "    <b><span style=\"color:blue\">[toc](#toc) - [<](#penalityNuma) - Page 09 - [>](#loadbal)\n",
    "    &nbsp;&nbsp;&nbsp;&nbsp; - Phd : DAG Scheduling with Data Placement on NUMA Multicore Platform</span></b>\n",
    "NUMA</span></b>\n",
    "</font>\n",
    "<hr>\n",
    "\n",
    "<h2><b>State of Art DAG Tasks Scheduling & Data Placement on NUMA</b></h2>\n",
    "<br><br>\n",
    "\n",
    "\n",
    "|<h3>Author</h3>             | <h3>Scheduling/Mapping Policy</h3>                            |  Type of placement  | Src of PLC decision  | Scheduling entity  | ToD   | NCPS| Impl LY | DoRD    | SUDT | GRANU      |\n",
    "| -------------------------- | ------------------------------------------------------------- | ------------------- | ------------------- | ----------------- | ------ | -- |-- |-- |-- |-- |\n",
    "| <h3>Henrik/2014</h3>       | <h3>AFFINITY ON TOUCH (OS)</h3>\t                             |  -    \t\t\t   |  -      \t\t     |  -     \t\t\t |  -     |X-X- | LIB/OS  | PROGR   | ANY  | PG         |\n",
    "| <h3>Dashti/2011</h3>       | <h3><a href=\"docs/CARREFOUR01.pdf\">CARREFOUR</a></h3>         |  THD clustring   |  OS/PMU     \t\t |  OS THD     \t |  EXE   |X-XX | OS      | PRFLG\t| ANY  | PG\t        |\n",
    "| <h3>Pousa/2010</h3>        | <h3><a href=\"docs/mai01.pdf\">MAI</a></h3>                     |  THD PIN     |  -      \t\t\t |  P-THD    \t |  SoE   |X-X- | LIB     | PROGR   | ARY  | BLK/PG     |\n",
    "| <h3>Ribeiro/2015</h3>      | <h3><a href=\"docs/minas01.pdf\">MINAS + profiling</a></h3>     |  Co-SCH      |  DTSH     \t |  P-THD    \t |  SoE   |XXX- |         | PPG/LIB | PPR  | ARY/BLK/PG |\n",
    "| <h3>Marathe/2011</h3>      | <h3>FBoPP</h3> \t\t\t                                     |  THD PIN     |  -      \t\t\t |  P-THD     \t |  SoE   |X-X- | LIB\t  | PRFLG   | ANY  | PGs        |\n",
    "| <h3>Nikolopoulos/2008</h3> | <h3><a href=\"docs/schedReuse.pdf\">SCHEDULE REUSE</a></h3>     |  Loop SCH    |  DTDS  |  ITR   |  EXE   |X-XX | CPL+RT  | PROGR   | ARY  | ELT\t    |\n",
    "| <h3>Yoo/2012</h3>          | <h3><a href=\"docs/yoo01.pdf\">Unstructured parallelism</a></h3>|  TSK PLC \t   |  DTSH \t     |  TSK \t\t\t |  SoE   |-X-X | RT\t  | - \t    | -    | - \t        |\n",
    "| <h3>Broquedis/2009</h3>    | <h3><a href=\"docs/FORESTGOMP01.pdf\">FORESTGOMP</a></h3>       |  THD PLC   |  DTDS\t |  OMP-THD\t |  EXE   |XXXX | RT\t  | PROGR   | -    | -          |\n",
    "| <h3>Chen/2013</h3>         | <h3><a href=\"\">LAWS</a></a></h3>\t\t\t                     |  TSK PLC \t   |  DTDS\t |  Cilk TSK \t\t |  EXE   | XXXX | RT\t  | DAG \t| ARY  | BLs \t    |\n",
    "\n",
    "\n",
    "<br><br>\n",
    "\n",
    "<b>Abbreviations</b> : <b>NCPS</b> : NUMA/CACHE Optimisation; Scheduling / Placement - <b>SCH</b> : Scheduling - <b>ILY</b> : Implementation Layer - <b>DoRD</b> : Decision Entity - <b>SUDT</b> : supported Data Structure - <b>THD</b> Thread - <b>TSK</b> : Task - <b>PLC</b> : Placement - <b>LIB</b> : Library -  <b>OS</b> :Operating system - <b>CPL</b> : Compiler - <b>RT</b> : Runtime support - <b>PROGR</b> : Programmer - <b>PRFLG</b> : Profeling - <b>PIN</b> : Pinning - <b>DTSH</b> : Data Sharing - <b>DTDS</b> : Data Distribution - <b>ITR</b> : iteration\n",
    "\n",
    "<!--img src=\"data/Minas001.png\" heigh=\"60%\" width=\"50%\"/-->\n",
    "\n",
    "<br><br><br><br><br><br><br><br><br><br><br><br><br><br><br><br><br><br>"
   ]
  },
  {
   "cell_type": "markdown",
   "metadata": {
    "slideshow": {
     "slide_type": "slide"
    }
   },
   "source": [
    "<a id=\"loadbal\"></a>\n",
    "\n",
    "<font size=\"3\">\n",
    "    <b><span style=\"color:blue\">[toc](#toc) - [<](#state) - Page 10 - [>](#contributions)\n",
    "    &nbsp;&nbsp;&nbsp;&nbsp; - Phd : DAG Scheduling with Data Placement on NUMA Multicore Platform</span></b>\n",
    "NUMA</span></b>\n",
    "</font>\n",
    "<hr>\n",
    "\n",
    "<h2><b>Load balancing strategies</b></h2>\n",
    "\n",
    "<br><br>\n",
    "\n",
    "|<h2>A - Work Sharing</h2> |   |  <h2>B - Work Stealing</h2> |\n",
    "|----------------------|---|----------------------|\n",
    "|<h3> Scheduler attemps to migrate threads to other processors<br>hoping to distribute work to underutilized processors<br></h3>|    |<h3>Underutilized processors take the initiative<br>by stealing threads from other processors<br></h3>|\n",
    "\n",
    "<br><br>\n",
    "\n",
    "<img src=\"data/wsteal01.png\" width=\"90%\" />\n",
    "\n",
    "<br><br><br><br><br><br><br><br><br><br><br><br><br><br><br><br><br><br>"
   ]
  },
  {
   "cell_type": "markdown",
   "metadata": {
    "slideshow": {
     "slide_type": "slide"
    }
   },
   "source": [
    "<a id=\"contributions\"></a>\n",
    "\n",
    "<font size=\"3\">\n",
    "    <b><span style=\"color:blue\">[toc](#toc) - [<](#loadbal) - Page 11 - [>](#indpdTK)\n",
    "    &nbsp;&nbsp;&nbsp;&nbsp; - Phd : DAG Scheduling with Data Placement on NUMA Multicore Platform</span></b>\n",
    "</font>\n",
    "<hr>\n",
    "\n",
    "<h2><b>Contributions</b></h2>\n",
    "\n",
    "<h3><b>1- Scheduling / Placement generic schemas</b></h3>\n",
    "<img src=\"data/algo009.png\" width=\"100%\"/>\n",
    " \n",
    "<br><br><br><br><br><br><br><br><br><br><br><br><br><br><br><br><br><br><br><br><br><br><br><br><br><br><br>"
   ]
  },
  {
   "cell_type": "markdown",
   "metadata": {
    "slideshow": {
     "slide_type": "slide"
    }
   },
   "source": [
    "<a id=\"indpdTK\"></a>\n",
    "\n",
    "<font size=\"3\">\n",
    "    <b><span style=\"color:blue\">[toc](#toc) - [<](#contributions) - Page 12 - [>](#ExeHorizon)\n",
    "    &nbsp;&nbsp;&nbsp;&nbsp; - Phd : DAG Scheduling with Data Placement on NUMA Multicore Platform</span></b>\n",
    "</font>\n",
    "<hr>\n",
    "\n",
    "<h2><b>Impact of policies combination on independant tasks</b></h2>\n",
    "\n",
    "<h3>$\\mathbb{T} = \\{ T_i \\}_{i \\in I}$ independant tasks set sharing same data<br>\n",
    "Current Task $T_k$ to be mapped with its data :</h3>\n",
    "<h3>\n",
    "Mapping Policy :<br>\n",
    "- Round Robin<br>\n",
    "$$N^*[k \\quad mod \\quad |N^*|]$$\n",
    "\n",
    "<br>\n",
    "- Less Loaded<br><br>\n",
    "$$\\text{argMin}_{a \\in A^*} \\text{getProcessorsLoad(a)}$$\n",
    "\n",
    "<br><br>\n",
    "Placement Policy :<br>\n",
    "- Round Robin<br>\n",
    "$$M^*[ k \\quad mod \\quad |M^*|]$$\n",
    "\n",
    "<br>\n",
    "- Affinity on First touch<br>\n",
    "$$\\text{ On the Node its task is allocated if not already placed}$$\n",
    "</h3>\n",
    "<br>\n",
    "\n",
    "\n",
    "<br><br><br><br><br><br><br><br><br><br><br><br><br><br><br><br><br><br><br><br><br><br><br><br><br><br><br>"
   ]
  },
  {
   "cell_type": "markdown",
   "metadata": {
    "slideshow": {
     "slide_type": "slide"
    }
   },
   "source": [
    "<a id=\"ExeHorizon\"></a>\n",
    "\n",
    "<font size=\"3\">\n",
    "    <b><span style=\"color:blue\">[toc](#toc) - [<](#indpdTK) - Page 13 - [>](#DAGPartitionning)\n",
    "    &nbsp;&nbsp;&nbsp;&nbsp; - Phd : DAG Scheduling with Data Placement on NUMA Multicore Platform</span></b>\n",
    "</font>\n",
    "<hr>\n",
    "\n",
    "<h2><b>NUMA Adapted Execution Horizon for DAG-Applications</b></h2>\n",
    "<h3><b>DAG $G(V^*,E^*)$ partionning</b></h3>\n",
    "<h3>\n",
    "$$\n",
    "\\Phi(G) = (\\{ G_i = (V^*_i, E^*_i) \\}_{i:1 \\cdots K}, Mx_{K \\times K}) \\\\\n",
    "G_i \\text{ vérifiant } \\bigcup_{1 \\le i \\le K} V^*_i = V^* \\&  V^*_i \\cap V^*_j = \\emptyset \\text{ , } \\forall i \\neq j\n",
    "$$\n",
    "<img src=\"data/algo010.png\" width=\"55%\"/>\n",
    "</h3>\n",
    "<br><br><br><br><br><br><br><br><br><br><br><br><br><br><br><br>"
   ]
  },
  {
   "cell_type": "markdown",
   "metadata": {
    "slideshow": {
     "slide_type": "slide"
    }
   },
   "source": [
    "<a id=\"DAGPartitionning\"></a>\n",
    "\n",
    "<font size=\"3\">\n",
    "    <b><span style=\"color:blue\">[toc](#toc) - [<](#ExeHorizon) - Page 14 - [>](#XXH)\n",
    "    &nbsp;&nbsp;&nbsp;&nbsp; - Phd : DAG Scheduling with Data Placement on NUMA Multicore Platform</span></b>\n",
    "</font>\n",
    "<hr>\n",
    "\n",
    "<h2>Set Preferences</h2>\n",
    "<h3>\n",
    "\n",
    "$$\n",
    "\\Phi(\\{ G_1, G_2, \\cdots , G_n\\}*, \\{N_j\\}) = \\{(G_{i_1},N_{j_1}), (G_{i_1},N_{j_1}), \\cdots, (G_{i_n},N_{j_n}) \\}\n",
    "$$\n",
    "<br><br>\n",
    "Partitionned DAG Example <br><br>\n",
    "<img src=\"data/DAG0502.png\" width=\"100%\"/>\n",
    "</h3>\n",
    "<br><br><br><br><br><br><br><br><br><br><br><br><br><br><br><br><br><br><br><br><br><br><br><br><br><br><br>"
   ]
  },
  {
   "cell_type": "markdown",
   "metadata": {
    "slideshow": {
     "slide_type": "slide"
    }
   },
   "source": [
    "<a id=\"XXH\"></a>\n",
    "\n",
    "<font size=\"3\">\n",
    "    <b><span style=\"color:blue\">[toc](#toc) - [<](#DAGPartitionning) - Page 15 - [>](#XXH2)\n",
    "    &nbsp;&nbsp;&nbsp;&nbsp; - Phd : DAG Scheduling with Data Placement on NUMA Multicore Platform</span></b>\n",
    "</font>\n",
    "<hr>\n",
    "\n",
    "<h2>Apply Extended Execution Horizon</h2>\n",
    "<h3>$\\mathbb{T}$ already partitionned into four catégories : $\\mathbb{T} = T_C \\cup T_X \\cup T_R \\cup T_Q $</h3>\n",
    "\n",
    "| <h3>Completed Tasks</h3> |<h3>Running Tasks</h3> | <h3>Ready Tasks</h3> | <h3>Not ready yet Tasks</h3> |\n",
    "|-----------------------|-------------------|-----------------|-------------------------|\n",
    "| <h3>$T_C$</h3> |<h3>$T_X$</h3> | <h3>$T_R = \\{ T \\in \\mathbb{T} \\quad | \\quad \\forall \\text{Parent}(T) \\in T_C \\}$</h3> | <h3>$T_Q = \\{ T \\in \\mathbb{T} \\quad | \\quad \\exists \\text{Parent}(T) \\notin T_C \\}$</h3> |\n",
    "|\n",
    "\n",
    "<h3>Idea : Not enough information about DAG execution!!<br>\n",
    "Extend visibility horizon, Partion more the unclassified tasks : $T_Q = T_V \\cup T_H \\cup T_F \\cup T_U$</h3>\n",
    "\n",
    "| <h3>Completed Tasks</h3> |<h3>Running Tasks</h3> | \n",
    "|-----------------------|-------------------|\n",
    "| <h3>$T_V  = \\{ T \\in \\mathbb{T} | \\forall \\text{Parent}(T) \\in T_C \\cup T_X \\text{ et } \\exists \\text{Parent}(T) \\in T_X \\}$<br>$T_H  = \\{ T \\in \\mathbb{T} | \\forall \\text{Parent}(T) \\in T_C \\cup T_X  \\cup T_R  \\text{ et } \\exists \\text{Parent}(T) \\in T_R \\}$<br><br> $T_F  = \\{ T \\in \\mathbb{T} | \\exists \\text{Parent}(T) \\notin T_C \\cup T_X  \\cup T_V  \\text{ et } \\exists \\text{Parent}(T) \\in T_V \\}\\}$<br><br> $T_U  = \\{ T \\in \\mathbb{T} | \\exists \\text{Parent}(T) \\notin T_C \\cup T_X  \\cup T_R  \\cup T_V \\}$</h3> |<img src=\"data/vhfu001.png\" width=\"80%\"/>| \n",
    "<br><br><br><br><br><br><br><br><br><br><br><br><br><br><br><br><br><br><br><br>"
   ]
  },
  {
   "cell_type": "markdown",
   "metadata": {
    "slideshow": {
     "slide_type": "slide"
    }
   },
   "source": [
    "<a id=\"XXH2\"></a>\n",
    "\n",
    "<font size=\"3\">\n",
    "    <b><span style=\"color:blue\">[toc](#toc) - [<](#XXH) - Page 16 - [>](#XXH3)\n",
    "    &nbsp;&nbsp;&nbsp;&nbsp; - Phd : DAG Scheduling with Data Placement on NUMA Multicore Platform</span></b>\n",
    "</font>\n",
    "<hr>\n",
    "\n",
    "<h2>Apply Extended Execution Horizon<br></h2>\n",
    "<h3>\n",
    "$\\textbf{Algorithm XH-VHFU}$\n",
    "</h3>\n",
    "\n",
    "<img src=\"data/algo011.png\"/>\n",
    "<!-- on the current state of DAG-->\n",
    "<br><br><br><br><br><br><br><br><br><br><br><br><br><br><br><br><br><br><br><br><br><br><br><br><br><br><br>"
   ]
  },
  {
   "cell_type": "markdown",
   "metadata": {
    "slideshow": {
     "slide_type": "slide"
    }
   },
   "source": [
    "<a id=\"XXH3\"></a>\n",
    "\n",
    "<font size=\"3\">\n",
    "    <b><span style=\"color:blue\">[toc](#toc) - [<](#XXH2) - Page 17 - [>](#XXH4)\n",
    "    &nbsp;&nbsp;&nbsp;&nbsp; - Phd : DAG Scheduling with Data Placement on NUMA Multicore Platform</span></b>\n",
    "</font>\n",
    "<hr>\n",
    "\n",
    "<h2>Apply Extended Execution Horizon<br></h2>\n",
    "<h3>\n",
    "At runtime, Scheduler must take a decision $D_c$ after the release of an execution ressource :<br><br>\n",
    "\n",
    "$$D_c = \\Phi(P_f , A_f, H_z)$$\n",
    "\n",
    "<br>\n",
    "\n",
    "- $\\textbf{Preference}$ $P_f$ : node bound to subDAG of the current task.<br>\n",
    "- $\\textbf{Affinity}$ $A_f$ : node where the most amount the task data located.<br>\n",
    "- $\\textbf{Horizon}$ $H_z$ : How much wide become the horizon after choisng task. <br>\n",
    "<br>\n",
    "$$\n",
    "\\Delta H^*(T_r) = \\alpha \\Delta V(T_r) + \\beta \\Delta H(T_r) + \\gamma \\Delta F(T_r)  + \\theta \\Delta U(T_r) \n",
    "$$\n",
    "\n",
    "<br>\n",
    "\n",
    "1- $\\textit{Ready task selection }$ : $\\textbf{optimize the XH : }$ $\\Delta H^*(T_r)$.<br><br>\n",
    "\n",
    "$$\n",
    "T_s =  \\text{argMax}_{T_r \\in T_R} \\Delta H^*(T_r) \n",
    "$$\n",
    "\n",
    "<br>\n",
    "2- $\\textit{Node allocated}$ : $\\textbf{preserving the data locality}$ or $\\textbf{already run the parent task}$.<br><br>\n",
    "\n",
    "$$\n",
    "N_s(T) =\n",
    "\\begin{cases}\n",
    "SDN(T), & \\text{if } getLDx(SDN(T),T) > DL\\_THRESHOLD\\\\\n",
    "\\text{argMax}_{N \\in N^*} getLDx(N, T), & \\text{else}\\\\\n",
    "\\end{cases}\n",
    "$$\n",
    "<br>\n",
    "Functions and Parameters :<br>\n",
    "- $\\textbf{SDN}$ : subDAGNode to get the node to which  $T_s$ subDAG bound (preference).<br>\n",
    "- $\\textbf{DL_THRESHOLD}$ : Threshold to decide if $T_s$ stay on preference node or search another allocation<br>\n",
    "- $\\textbf{getLDx}$ : quantify the data localité to $T_s$ for selected node (distance Matrix & current Placement).<br>\n",
    "\n",
    "<br>\n",
    "3- $\\textit{Data locality}$ : $\\textbf{Affinity_on_first_Touch}$ no migration no modification.<br>\n",
    "Memory allocation for request done by $T_s$ during its exécution will requested from its node memory.\n",
    "</h3>\n",
    "\n",
    "<!-- on the current state of DAG-->\n",
    "<br><br><br><br><br><br><br><br><br><br><br><br><br><br><br><br><br><br><br><br><br><br><br><br><br><br><br>"
   ]
  },
  {
   "cell_type": "markdown",
   "metadata": {
    "slideshow": {
     "slide_type": "slide"
    }
   },
   "source": [
    "<a id=\"XXH4\"></a>\n",
    "\n",
    "<font size=\"3\">\n",
    "    <b><span style=\"color:blue\">[toc](#toc) - [<](#XXH3) - Page 18 - [>](#dbws)\n",
    "    &nbsp;&nbsp;&nbsp;&nbsp; - Phd : DAG Scheduling with Data Placement on NUMA Multicore Platform</span></b>\n",
    "</font>\n",
    "<hr>\n",
    "\n",
    "<h2>Apply Extended Execution Horizon<br></h2>\n",
    "<h3>\n",
    "Result of the new DAG partitionning :<br><br>\n",
    "</h3>\n",
    "\n",
    "<img src=\"data/DAG054.png\"/>\n",
    "\n",
    "<!-- on the current state of DAG-->\n",
    "<br><br><br><br><br><br><br><br><br><br><br><br><br><br><br><br><br><br><br><br><br><br><br><br><br><br><br>"
   ]
  },
  {
   "cell_type": "markdown",
   "metadata": {
    "slideshow": {
     "slide_type": "slide"
    }
   },
   "source": [
    "<a id=\"dbws\"></a>\n",
    "\n",
    "<font size=\"3\">\n",
    "    <b><span style=\"color:blue\">[toc](#toc) - [<](#XXH4) - Page 19 - [>](#sim)\n",
    "    &nbsp;&nbsp;&nbsp;&nbsp; - Phd : DAG Scheduling with Data Placement on NUMA Multicore Platform</span></b>\n",
    "</font>\n",
    "<hr>\n",
    "\n",
    "<h2><b>Distance based Work stealing for LB on NUMA</b></h2>\n",
    "<h3>\n",
    "<br><br>\n",
    "<img src=\"data/algo012.png\"/>\n",
    "</h3>\n",
    "<br><br><br><br><br><br><br><br><br><br><br><br><br><br><br><br><br><br><br><br><br><br><br><br><br><br><br>"
   ]
  },
  {
   "cell_type": "markdown",
   "metadata": {
    "slideshow": {
     "slide_type": "slide"
    }
   },
   "source": [
    "<a id=\"sim\"></a>\n",
    "\n",
    "<font size=\"3\">\n",
    "    <b><span style=\"color:blue\">[toc](#toc) - [<](#dbws) - Page 20 - [>](#SimCombin)\n",
    "    &nbsp;&nbsp;&nbsp;&nbsp; - Phd : DAG Scheduling with Data Placement on NUMA Multicore Platform</span></b>\n",
    "</font>\n",
    "<hr>\n",
    "\n",
    "<h2><b>Simulation & Results analysis</b></h2>\n",
    "<h2>1st Contribution : NUMA simulator HLSMN</h2>\n",
    "<!--h4>[Paper about the siomulator presented in Conference LAPCI 2016]</h4-->\n",
    "\n",
    "<h3>Simulator Architecture :<br>\n",
    "- Simulation Kernel<br>\n",
    "- Topology Generator\n",
    "- Application Generator/Loader\n",
    "</h3>\n",
    "<img src=\"data/model_sim_numa.png\" width=\"90%\"/>\n",
    "<br><br><br><br><br><br><br><br><br><br><br><br><br><br><br><br><br><br>"
   ]
  },
  {
   "cell_type": "markdown",
   "metadata": {
    "slideshow": {
     "slide_type": "slide"
    }
   },
   "source": [
    "<a id=\"SimCombin\"></a>\n",
    "\n",
    "<font size=\"3\">\n",
    "    <b><span style=\"color:blue\">[toc](#toc) - [<](#sim) - Page 21 - [>](#SimXXH)\n",
    "    &nbsp;&nbsp;&nbsp;&nbsp; - Phd : DAG Scheduling with Data Placement on NUMA Multicore Platform</span></b>\n",
    "</font>\n",
    "<hr>\n",
    "<h1><b>2d Contribution : Policies combinition for inpendant Tasks scenarios</b></h1>\n",
    "<!--h4>[Paper about Independant task scheduling on Multicore for DES cipher algorithms presented in conference DEFG2015]<br>\n",
    "[Paper about the impact of this combinaison published in journal AAC 2017]</h4--->\n",
    "<h3>Settings</h3>\n",
    "\n",
    "| <h3>Tology</h3> | <h3>Application</h3>  | <h3>Scheduling</h3> | <h3>Placement</h3> | <h3>Metrics</h3> |\n",
    "| ----- | ---  | ----- |   ---- |  ------- |\n",
    "| <h3>2 Node/Cores:2/2 <br>DistanceIntra/Inter:10/100<br></h3> | <h3>$\\textbf{T50}$ & $\\textbf{T250}$ (N=50/250 <br>indpt tasks sharing data)<br></h3>  | <h3>$\\textit{Round Robin (SRR)}$ <br>$\\textit{Load Balanced (SLL)}$<br></h3> | <h3>$\\textit{First Touch (PFT)}$ <br> $\\textit{Round Robin(PRR)}$<br></h3> | <h3>$C_{max}$ Completion time <br> Remote/Local acceses ratio<br></h3> |\n",
    "\n",
    "\n",
    "<h3>Results</h3>\n",
    "<img src=\"data/result_numa01.png\"/>\n",
    "\n",
    "<h3>Comments</h3>\n",
    "\n",
    "| <h3>Results | <h3>PPR/SRR</h3> | <h3>PRR/SLL</h3> | <h3>PFT/SRR</h3> | <h3>PFT/SLL</h3> | <h3>Commengts </h3>|\n",
    "| - | - | - | - | - | - |\n",
    "| <h3>50 TK</h3> | <h3>7.854</h3> | <h3>11.372</h3> | <h3>6.018</h3> | <h3>7.213</h3> | <h3>SLL best scheduling</h3> |\n",
    "| <h3>250TK</h3> | <h3>25.799</h3> | <h3>40.107</h3> | <h3>21.877</h3> | <h3>39.084</h3> | <h3>PFT best placement</h3>  |\n",
    "\n",
    "\n",
    "\n",
    "<br><br><br><br><br><br><br><br><br><br><br><br><br><br><br><br><br><br>"
   ]
  },
  {
   "cell_type": "markdown",
   "metadata": {
    "slideshow": {
     "slide_type": "slide"
    }
   },
   "source": [
    "<a id=\"SimXXH\"></a>\n",
    "\n",
    "<font size=\"3\">\n",
    "    <b><span style=\"color:blue\">[toc](#toc) - [<](#SimCombin) - Page 22 - [>](#SimXXHCmax)\n",
    "    &nbsp;&nbsp;&nbsp;&nbsp; - Phd : DAG Scheduling with Data Placement on NUMA Multicore Platform</span></b>\n",
    "</font>\n",
    "<hr>\n",
    "\n",
    "<h2><b>3rd Contribution : XH-XVHFU heuristic scheduling/placement DAG</b></h2>\n",
    "<h3>Settings</h3>\n",
    "\n",
    "| <h3>Tology</h3> | <h3>DAG</h3>  | <h3>Scheduling</h3> | <h3>Placement</h3> | <h3>Metrics</h3> |\n",
    "| ----- | ---  | ----- |   ---- |  ------- |\n",
    "| <h3>8N2C, 4N4C, 8N1C<br>4N2C, 2N4C, 2N2C<br></h3> | <h3>DAG0Xx format STG<br>with Xx tasks<br>DAG25, DAG50, DAG75<br>DAG100, DAG125, DAG150<br></h3>  | <h3>$\\textit{With XH-XVHFU}$ <br>$\\textit{Without XH-XVHFU}$<br></h3> | <h3>$\\textit{First Touch (PFT)}$ <br><br></h3> | <h3>1-$C_{max}$ Completion time<br>2- NUMA Penality Ratio<br></h3> |\n",
    "\n",
    "<img src=\"data/hx002-00.png\" width=\"80%\"/>\n",
    "\n",
    "<br><br><br><br><br><br><br><br><br><br><br><br><br><br><br><br><br><br><br><br><br><br><br><br><br><br><br><br><br><br><br><br><br><br><br><br>"
   ]
  },
  {
   "cell_type": "markdown",
   "metadata": {
    "slideshow": {
     "slide_type": "slide"
    }
   },
   "source": [
    "<a id=\"SimXXHCmax\"></a>\n",
    "\n",
    "<font size=\"3\">\n",
    "    <b><span style=\"color:blue\">[toc](#toc) - [<](#SimXXH) - Page 23 - [>](#SimXXHPNuma)\n",
    "    &nbsp;&nbsp;&nbsp;&nbsp; - Phd : DAG Scheduling with Data Placement on NUMA Multicore Platform</span></b>\n",
    "</font>\n",
    "<hr>\n",
    "\n",
    "<!--h2><b>[4.3] XH-XVHFU heuristic scheduling/placement scenarios</b></h2-->\n",
    "<h3>Results for Completion execution time $C_{max}$</h3>\n",
    "\n",
    "|<h3> DAG </h3>|<h3> 25  </h3>|<h3> 50 </h3>|<h3> 75 </h3>|<h3> 100 </h3>|<h3> 125 </h3>|<h3> 150 </h3>|\n",
    "| -- | --  | -- | -- | --- | --- | --- |\n",
    "|<h3> Cases </h3>|<h3> 4/6 </h3>|<h3> 5/6 </h3>|<h3> 5/6 </h3>|<h3> 5/6 </h3>|<h3> 5/6 </h3>|<h3> 4/6 </h3>|\n",
    "|<h3> Deviation </h3>|<h3> +4% </h3>|<h3> +6% </h3>|<h3> +7% </h3>|<h3> -3% </h3>|<h3> +4% </h3>|<h3> +3 </h3>|\n",
    "|<h3> Range </h3>|<h3> 55 - 88 </h3>|<h3> 75-112 </h3>|<h3> 110 - 180 </h3>|<h3> 190 - 290 </h3>|<h3> 215 - 355 </h3>|<h3> 255 - 360 </h3>|\n",
    "\n",
    "<h3>Comments : </h3>\n",
    "<h3>The results show that :</h3>\n",
    "\n",
    "|                |\n",
    "|----------------|\n",
    "|<h2>The integration of heuristic XH has given in most cases (on average 4 out of 6 cases) a positive difference by improving the total execution time between 3% and 6 % on average compared to the default strategy.</h2>|\n",
    "|<h2>The widing horizon, as the scheduling process progresses, helps to guide the decision-making process to select the current tasks to be executed by exploiting the visibility information of the tasks not yet executed.\n",
    "</h2>|\n",
    "\n",
    "<br><br><br><br><br><br><br><br><br><br><br><br><br><br><br><br><br><br>"
   ]
  },
  {
   "cell_type": "markdown",
   "metadata": {
    "slideshow": {
     "slide_type": "slide"
    }
   },
   "source": [
    "<a id=\"SimXXHPNuma\"></a>\n",
    "\n",
    "<font size=\"3\">\n",
    "    <b><span style=\"color:blue\">[toc](#toc) - [<](#SimXXHCmax) - Page 24 - [>](#SimDbWS)\n",
    "    &nbsp;&nbsp;&nbsp;&nbsp; - Phd : DAG Scheduling with Data Placement on NUMA Multicore Platform</span></b>\n",
    "</font>\n",
    "<hr>\n",
    "\n",
    "<!--h2><b>Scenario 2 : NUMA Penality Ratio measurment</b></h2-->\n",
    "<h3>Results for NUMA Penality Ratio</h3>\n",
    "<img src=\"data/rla_00.png\" width=\"80%\"/>\n",
    "\n",
    "<h3>Comments</h3>\n",
    "\n",
    "|<h3> Node/Core </h3>|<h3> 2/2  </h3>|<h3> 2/4 </h3>|<h3> 4/2 </h3>|<h3> 8/2 </h3>|<h3> 8/1 </h3>|<h3> 4/4 </h3>|\n",
    "| -- | --  | -- | -- | --- | --- | --- |\n",
    "|<h3> Cases </h3>|<h3> 5/6 </h3>|<h3> 4/6 </h3>|<h3> 4/6 </h3>|<h3> 3/6 </h3>|<h3> 3/6 </h3>|<h3> 3/6 </h3>|\n",
    "|<h3> Deviation </h3>|<h3> +4% </h3>|<h3> +2% </h3>|<h3> -2% </h3>|<h3> -3% </h3>|<h3> +2% </h3>|<h3> +1 </h3>|\n",
    "|<h3> Range% </h3>|<h3> 70 - 78 </h3>|<h3> 80 - 89 </h3>|<h3> 80 - 89 </h3>|<h3> 82 - 92 </h3>|<h3> 82 - 89 </h3>|<h3> 82 - 91 </h3>|\n",
    "\n",
    "<h3>Results show that :<br> \n",
    "The impact of the XH heuristic integration was not significant to reduce the number of remote access in the tests with low deviation compared to the default strategy.\n",
    "</h3>\n",
    "\n",
    "<br><br><br><br><br><br><br><br><br><br><br><br><br><br><br><br><br><br>"
   ]
  },
  {
   "cell_type": "markdown",
   "metadata": {
    "slideshow": {
     "slide_type": "slide"
    }
   },
   "source": [
    "<a id=\"SimDbWS\"></a>\n",
    "\n",
    "<font size=\"3\">\n",
    "    <b><span style=\"color:blue\">[toc](#toc) - [<](#SimXXHPNuma) - Page 25 - [>](#Conclusion)\n",
    "    &nbsp;&nbsp;&nbsp;&nbsp; - Phd : DAG Scheduling with Data Placement on NUMA Multicore Platform</span></b>\n",
    "</font>\n",
    "<hr>\n",
    "\n",
    "<h2><b>4th Contribution : Distance based Work stealing heuristic</b></h2>\n",
    "<h3>Settings</h3>\n",
    "\n",
    "| <h3>Tology</h3> | <h3>Application</h3>  | <h3>Load Balancing</h3> | <h3>Metrics</h3> |\n",
    "| ----- | ---  | ----- |   ---- |  ------- |\n",
    "| <h3>Node/Cores:4/1<br></h3> | <h3>$\\textbf{T1500}$ indpt tasks sharing data<br></h3>  | <h3>With/without DbWS heuristic<br></h3> | <h3>Average Load<br></h3> |\n",
    "\n",
    "\n",
    "<h3>Results</h3>\n",
    "<img src=\"data/myfigs9-f0.png\" width=\"70%\"/>\n",
    "\n",
    "<h3>Comments</h3>\n",
    "\n",
    "|<h3> Case \t</h3>|<h3> Option \t</h3>|<h3> Max Average Load </h3>|<h3> Min Average Load </h3>|\n",
    "| -------\t| -------\t| ---------------- | ---------------- |\n",
    "|<h3> A |<h3> Without WS </h3>|<h3> 70\t </h3>|<h3> 50 </h3>|\n",
    "|<h3> B |<h3> With WS </h3>|<h3> 70\t </h3>|<h3> 50 </h3>|\n",
    "|<h3> C |<h3> With DbWS    </h3>|<h3> 52  </h3>|<h3> 28 </h3>|\n",
    "\n",
    "<h3>\n",
    "- The first two strategies (A and B) are almost similar and their evolution is increasing (maximum peak of 50).<br>\n",
    "- The DbWS strategy (C) gives an average load more stable and much lower than the previous one (max peak of 35).<br>\n",
    "- An average improvement of the load = 15 \\% (maximum peak).\n",
    "</h3>\n",
    "\n",
    "<br><br><br><br><br><br><br><br><br><br><br><br><br><br><br><br><br><br>"
   ]
  },
  {
   "cell_type": "markdown",
   "metadata": {
    "slideshow": {
     "slide_type": "slide"
    }
   },
   "source": [
    "<a id=\"Conclusion\"></a>\n",
    "\n",
    "<font size=\"3\">\n",
    "    <b><span style=\"color:blue\">[toc](#toc) - [<](#SimDbWS) - Page 26 - [>](#Productions)\n",
    "    &nbsp;&nbsp;&nbsp;&nbsp; - Phd : DAG Scheduling with Data Placement on NUMA Multicore Platform</span></b>\n",
    "</font>\n",
    "<hr>\n",
    "\n",
    "<h2><b>Conclusion & Perspectives</b></h2>\n",
    "<h3>\n",
    "[5.1] Thesis<br><br>\n",
    "- Studied problem : <i>Scheduling of DAG based parallel applicattion with data placement on NUMA platform.</i><br>\n",
    "- Subproblem 1 : Tasks scheduling & mapping on NUMA nodes (processors/cores) </i><br>\n",
    "- Subproblem 2 : Data placement on nodes memories</i><br>\n",
    "- Subproblem 3 : Load balancing in this ddynamic contexte</i><br>\n",
    "- Objectif : find near optimal scheduling/placement in the contexte of NUMA for DAG with balanced load</i><br>\n",
    "\n",
    "[5.2] Results<br><br>\n",
    "- independant tasks : <i>Scheduling of DAG based parallel applicattion with data placement on NUMA platform.</i><br>\n",
    "- NUMA Extended Execution Horizon : Tasks scheduling & Data placement on NUMA nodes (processors/cores) </i><br>\n",
    "1- Total execution time (Cmax) : improvement of 6% compared to the default strategy.<br>\n",
    "2- NUMA penality : no significant improvement less then 2%<br>\n",
    "- Distance based Work Stealing : Improvement of 15% compared to without WS or with classical WS</i><br>\n",
    "<!-- Data placement on nodes memories -->\n",
    "\n",
    "[5.3] Limits<br><br>\n",
    "- Simulation<br>\n",
    "- Statistics<br>\n",
    "- Synthetic DAGs</i><br>\n",
    "\n",
    "[5.4] Perspectives\n",
    "- No Simulation, Real NUMA<br>\n",
    "- Using Real Applications<br>\n",
    "- Theoritical Analysis/Statistical Analysis<br>\n",
    "</h3>\n",
    "<br><br><br><br><br><br><br><br><br><br><br><br><br><br><br><br><br><br>"
   ]
  },
  {
   "cell_type": "markdown",
   "metadata": {
    "slideshow": {
     "slide_type": "slide"
    }
   },
   "source": [
    "<a id=\"Productions\"></a>\n",
    "\n",
    "<font size=\"3\">\n",
    "    <b><span style=\"color:blue\">[toc](#toc) - [<](#Conclusion) - Page 27 - [>](#Thanks)\n",
    "    &nbsp;&nbsp;&nbsp;&nbsp; - Phd : DAG Scheduling with Data Placement on NUMA Multicore Platform</span></b>\n",
    "</font>\n",
    "<hr>\n",
    "\n",
    "<h2><b>Scientific Productions</b></h2>\n",
    "\n",
    "\n",
    "|<h3> Num </h3>|<h3> Year </h3>|<h3> Authors       </h3>|<h3> Paper title  </h3>|<h3>       Organization  </h3>|\n",
    "| ---| -----| --------   | ------------ |------------------- |\n",
    "|<h3> 01  </h3>|<h3> 2013 </h3>|<h3> M.Slimane, A.Benmahdjoub, S.Benhadja<br></h3>|<h3> DAG Automatic parallel code generation using MS TPL library on multicore machines.<br></h3>|<h3> INFODAYs TIC National Conference, CHLEF University<br></h3>|\n",
    "|<h3> 02  </h3>|<h3> 2014 </h3>|<h3> M.Slimane, L. Sekhri </h3>|<h3> Pipelined Parallel Implementation of Cryptographic DES algorithm on Multicore platform<br></h3>|<h3>PhD-Days (Journee doctorale) LAPECI laboratoiry Oran <br></h3>|\n",
    "|<h3> 03 </h3>|<h3> 2015 </h3>|<h3> M.Slimane, L. Sekhri       </h3>|<h3> Modeling the Scheduling Problem of Identical Parallel Machines with Load Balancing by Time Petri Nets<br></h3>|<h3> Journal of Intelligent Systems and Applications <br></h3>|\n",
    "|<h3> 04 </h3>|<h3> 2015 </h3>|<h3> M.Slimane, L. Sekhri, Y. Cherifé       </h3>|<h3> HLSMN High Level Simulator of Multicore NUMA Achitecture<br></h3>|<h3>       1st national conference on Embedded and Distributed Systems EDiS Oran<br></h3>|\n",
    "|<h3> 05 </h3>|<h3> 2017 </h3>|<h3> M.Slimane, L. Sekhri </h3>|<h3> HLSMN High Level NUMA Simulator<br></h3>|<h3> EEA Journal 3-2017 <br>(www.eea-journal.ro)<br></h3>|\n",
    "\n",
    "<br><br><br><br><br><br><br><br><br><br><br><br><br><br><br><br><br><br><br><br><br><br><br><br><br><br><br><br><br><br><br><br><br><br><br><br>"
   ]
  },
  {
   "cell_type": "markdown",
   "metadata": {
    "slideshow": {
     "slide_type": "slide"
    }
   },
   "source": [
    "<a id=\"Thanks\"></a>\n",
    "\n",
    "<font size=\"3\">\n",
    "    <b><span style=\"color:blue\">[toc](#toc) - [<](#Productions) - Page 28 \n",
    "    &nbsp;&nbsp;&nbsp;&nbsp; - Phd : DAG Scheduling with Data Placement on NUMA Multicore Platform</span></b>\n",
    "</font>\n",
    "<hr>\n",
    "\n",
    "\n",
    "<img src=\"data/thanks00.jpg\"/>\n",
    "<br><br><br><br><br><br><br><br><br><br><br><br><br><br><br><br><br><br><br><br><br><br><br><br><br><br><br><br><br><br><br><br><br><br><br><br>"
   ]
  }
 ],
 "metadata": {
  "kernelspec": {
   "display_name": "Python 3",
   "language": "python",
   "name": "python3"
  },
  "language_info": {
   "codemirror_mode": {
    "name": "ipython",
    "version": 3
   },
   "file_extension": ".py",
   "mimetype": "text/x-python",
   "name": "python",
   "nbconvert_exporter": "python",
   "pygments_lexer": "ipython3",
   "version": "3.6.4"
  }
 },
 "nbformat": 4,
 "nbformat_minor": 2
}
