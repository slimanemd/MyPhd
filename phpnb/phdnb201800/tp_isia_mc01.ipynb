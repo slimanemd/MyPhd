{
 "cells": [
  {
   "cell_type": "markdown",
   "metadata": {},
   "source": [
    "# Chaine de Markov\n",
    "#### Slimane mohamed\n",
    "#### TP MEPS Master I ISIA "
   ]
  },
  {
   "cell_type": "markdown",
   "metadata": {},
   "source": [
    "- $j$ est <b>accessible</b> à partir de $i$ (noté $i \\to j$) $\\implies$ $\\exists n >0,  P^{(n)}_{ij} > 0$\n",
    "- $i$ et $j$ sont <b>communiquantes</b> $\\implies$ $i \\to j \\text{ & } j \\to i$\n",
    "- <b>Classe transitoire</b> : il est possible d'en sortir sans pouvoir plus jamais y revenir\n",
    "- <b>Classe recurrente</b> : il est impossible de la quitter\n",
    "- <b>Etat absorbant</b> : tout seul forme une classe recurrente.\n",
    "- <b>CM irreductible</b> : constituée d'une seule classe et qui est recurrente.\n",
    "- <b>Distribution limite</b> : est la distribution $\\pi$ verifiant $\\pi_j = \\lim_{n \\to \\infty} P^{(n)}_{ij}$ c.a.d ($\\pi = \\lim_{n \\rightarrow \\infty} \\pi^{(n)}$)\n",
    "- <b>Distribution Stationnaire</b> : est la distribution $\\pi$ verifiant $\\pi \\times \\textbf{P} = \\pi$ c.a.d ($\\pi (\\textbf{P}-I)=\\textbf{0}$)<br>"
   ]
  },
  {
   "cell_type": "code",
   "execution_count": 7,
   "metadata": {},
   "outputs": [
    {
     "name": "stdout",
     "output_type": "stream",
     "text": [
      "[[6 3]\n",
      " [6 3]]\n",
      "[[84 30]\n",
      " [60 24]]\n"
     ]
    }
   ],
   "source": [
    "import numpy as np\n",
    "from numpy.linalg import matrix_power\n",
    "\n",
    "A = np.matrix(\n",
    "    [[1, 1],\n",
    "     [1, 1]])\n",
    "\n",
    "B = np.matrix(\n",
    "    [[4, 1], \n",
    "     [2, 2]])\n",
    "\n",
    "C0 =  A * B\n",
    "C0= np.matmul(A,B)\n",
    "print(C0)\n",
    "\n",
    "print(B**3)"
   ]
  },
  {
   "cell_type": "code",
   "execution_count": 8,
   "metadata": {},
   "outputs": [
    {
     "name": "stdout",
     "output_type": "stream",
     "text": [
      "[[6 3]\n",
      " [6 3]]\n",
      "[[6 3]\n",
      " [6 3]]\n",
      "[[128 128]\n",
      " [128 128]]\n",
      "[[128 128]\n",
      " [128 128]]\n"
     ]
    }
   ],
   "source": [
    "# C = A B array([[6,3],[6,3]]) \n",
    "# on a 6=1*4+1*2, 3=1*1+1*2, 6=1*4+1*2 3= 1*1+1*2\n",
    "C0 = np.matmul(A, B)       ;print(C0)     \n",
    "C1 = A * B                 ;print(C1)  #meme resultat avec l'operateur *\n",
    "\n",
    "A80 = matrix_power(A, 8)   ;print(A80)  #ne pas utiliser np.power c est pas correct\n",
    "A81 = A**8                 ;print(A81)   #meme resultat avec l'operateur **"
   ]
  },
  {
   "cell_type": "markdown",
   "metadata": {},
   "source": [
    "### Distribution de n ieme etape\n",
    "\n",
    "En donnant $\\pi(0)$ et la matrice de transition $P$, on peut calculer la distribution de CM à étape $n$ avec la relation :\n",
    "\n",
    "$$\n",
    "\\pi(n) =  \\pi(0) . P^n \n",
    "$$\n"
   ]
  },
  {
   "cell_type": "code",
   "execution_count": 11,
   "metadata": {},
   "outputs": [],
   "source": [
    "# MC_pi_n  = lambda P, pi0, n : np.dot(pi0, np.linalg.matrix_power(P,n))  \n",
    "# ou plus simplement \n",
    "\n",
    "MC_pi_n  = lambda P, pi0, n : (pi0 * P**n) #sans faire de transposer votre collegue avait raison"
   ]
  },
  {
   "cell_type": "markdown",
   "metadata": {},
   "source": [
    "\\begin{align*}\n",
    "    \\pi^{(0)} & = \\left[ 1 \\quad  0 \\right]\\\\\n",
    "    \\textbf{P} &= \\left[\n",
    "    \\begin{array}{rrr}\n",
    "      0.9 & 0.1\\\\\n",
    "      0.5  & 0.5\n",
    "    \\end{array}\n",
    "  \\right]\\\\\n",
    "  \\pi^{(1)} = \\pi^{(0)} . \\textbf{P} &= \\left[ 1 \\quad  0 \\right]\n",
    "  \\left[\n",
    "    \\begin{array}{rrr}\n",
    "      0.9 & 0.1\\\\\n",
    "      0.5  & 0.5\n",
    "    \\end{array}\n",
    "  \\right]\n",
    "  = \\left[ 0.9 \\quad  0.1 \\right]\n",
    "\\end{align*}"
   ]
  },
  {
   "cell_type": "markdown",
   "metadata": {},
   "source": [
    "<img src=\"images/exo001.png\"/>"
   ]
  },
  {
   "cell_type": "code",
   "execution_count": 15,
   "metadata": {
    "scrolled": true
   },
   "outputs": [
    {
     "data": {
      "text/plain": [
       "matrix([[0.9, 0.1]])"
      ]
     },
     "execution_count": 15,
     "metadata": {},
     "output_type": "execute_result"
    }
   ],
   "source": [
    "#exemple 001 CM01\n",
    "#https://en.wikipedia.org/wiki/Examples_of_Markov_chains\n",
    "CM01_P = np.matrix(\n",
    "    [[0.9,0.1],\n",
    "     [0.5,0.5]]) \n",
    "\n",
    "\n",
    "CM01_pi0 = np.matrix([1,0])\n",
    "\n",
    "MC_pi_n(CM01_P, CM01_pi0, 1)"
   ]
  },
  {
   "cell_type": "code",
   "execution_count": 3,
   "metadata": {
    "scrolled": true
   },
   "outputs": [
    {
     "name": "stdout",
     "output_type": "stream",
     "text": [
      "[[0.9 1. ]]\n"
     ]
    },
    {
     "data": {
      "text/plain": [
       "1"
      ]
     },
     "execution_count": 3,
     "metadata": {},
     "output_type": "execute_result"
    }
   ],
   "source": [
    "import numpy as np\n",
    "CDF = np.matrix.cumsum(CM01_P, axis=1)\n",
    "print(CDF[0])\n",
    "np.argmax(CDF[0] > 0.95)"
   ]
  },
  {
   "cell_type": "code",
   "execution_count": 16,
   "metadata": {
    "scrolled": true
   },
   "outputs": [
    {
     "name": "stdout",
     "output_type": "stream",
     "text": [
      "SRSSSSSSSSSSSSRSSSSSSSSSSSSSSRRSSSSSSSSSSSSSSSSSSRSSSSSSRSSSRSSRRSSSSSSSSSRRSSSRSSSRSSSRSRSSSSSSSRSS"
     ]
    }
   ],
   "source": [
    "import random\n",
    "\n",
    "S =['S','R']  #P =np.matrix([0,1]) X = CM01_pi0 * P.transpose() S[X.tolist()[0][0]] #d_c =  np.matrix([0.3,0.7])\n",
    "d_c =  np.matrix([1,0])  #CDF = np.matrix.cumsum(CM01_P, axis=1)\n",
    "\n",
    "def getState(pi_c):\n",
    "    xv = random.uniform(0, 1)\n",
    "    pi_cc = np.cumsum(pi_c)\n",
    "    idx = np.argmax(pi_cc > xv)\n",
    "    return idx\n",
    "\n",
    "#\n",
    "\n",
    "import time\n",
    "def generateMC(States,pi_c,P,n):\n",
    "    MC= \"\"\n",
    "    for i in range(n):\n",
    "        idx = getState(pi_c)\n",
    "        ch = States[idx]   #print(xv,\"    \", d_cc, \"   \",idx, \"  \", d_cc.tolist()[0][idx], \"    \", (d_cc < xv))\n",
    "        pi_c =  pi_c * P      #d_cc = np.cumsum(d_c)\n",
    "        time.sleep(1)\n",
    "        print(ch, end= \"\")  \n",
    "        MC += ch\n",
    "    return MC\n",
    "\n",
    "MC = generateMC(S, d_c, CM01_P, 100)\n",
    "        \n",
    "#print(MC)\n",
    "    "
   ]
  },
  {
   "cell_type": "code",
   "execution_count": 5,
   "metadata": {
    "scrolled": true
   },
   "outputs": [
    {
     "data": {
      "text/plain": [
       "[]"
      ]
     },
     "execution_count": 5,
     "metadata": {},
     "output_type": "execute_result"
    }
   ],
   "source": [
    "\n",
    "\n",
    "alist= [0.5, 0.3, 0.9, 0.8]\n",
    "[ n for n,i in enumerate(alist) if i>0.9 ]"
   ]
  },
  {
   "cell_type": "code",
   "execution_count": 6,
   "metadata": {
    "scrolled": true
   },
   "outputs": [
    {
     "name": "stdout",
     "output_type": "stream",
     "text": [
      "[0.5, 0.5]\n"
     ]
    }
   ],
   "source": [
    "CM01_n = 1\n",
    "pi1= MC_pi_n(CM01_P,CM01_pi0,CM01_n)         ;print(pi1.tolist()[0])\n",
    "# [0.9, 0.1]"
   ]
  },
  {
   "cell_type": "markdown",
   "metadata": {},
   "source": [
    "\\begin{align*}\n",
    "  \\pi^{(2)} = \\pi^{(1)} . \\textbf{P} = \\pi^{(0)} . \\textbf{P}^2 &= \\left[ 1 \\quad  0 \\right]\n",
    "  \\left[\n",
    "    \\begin{array}{rrr}\n",
    "      0.9 & 0.1\\\\\n",
    "      0.5  & 0.5\n",
    "    \\end{array}\n",
    "  \\right]^2\n",
    "  = \\left[ 0.86 \\quad  0.14 \\right]\n",
    "\\end{align*}"
   ]
  },
  {
   "cell_type": "code",
   "execution_count": 10,
   "metadata": {
    "scrolled": true
   },
   "outputs": [
    {
     "name": "stdout",
     "output_type": "stream",
     "text": [
      "[0.8600000000000001, 0.14]\n"
     ]
    }
   ],
   "source": [
    "#exemple 02 CM02\n",
    "#https://en.wikipedia.org/wiki/Examples_of_Markov_chains\n",
    "CM02_P = np.matrix(\n",
    "    [[0.9,0.1],\n",
    "     [0.5,0.5]]) \n",
    "CM02_pi0 = np.matrix([1,0])\n",
    "CM02_n = 2\n",
    "pi1= MC_pi_n(CM02_P,CM02_pi0,CM02_n)         ;print(pi1.tolist()[0])\n",
    "#[0.8600000000000001, 0.14]"
   ]
  },
  {
   "cell_type": "markdown",
   "metadata": {},
   "source": [
    "\\begin{align*}\n",
    "    \\pi^{(0)} & = \\left[ 1/3 \\quad  1/3 \\quad 1/3 \\right]\\\\\n",
    "    \\textbf{P} &= \\left[\n",
    "    \\begin{array}{rrr}\n",
    "      0.3 & 0.3 & 0.4\\\\\n",
    "      0.4  & 0.4 & 0.2 \\\\\n",
    "      0.5 & 0.3 & 0.2\n",
    "    \\end{array}\n",
    "  \\right]\\\\\n",
    "  \\pi^{(1)} = \\pi^{(0)} . \\textbf{P} &= \\left[ 1/3 \\quad  1/3 \\quad 1/3 \\right]\n",
    "  \\left[\n",
    "    \\begin{array}{rrr}\n",
    "      0.3 & 0.3 & 0.4\\\\\n",
    "      0.4  & 0.4 & 0.2 \\\\\n",
    "      0.5 & 0.3 & 0.2\n",
    "    \\end{array}\n",
    "  \\right]\n",
    "  = \\left[ 0.4000 \\quad  0.3333 \\quad 0.2666 \\right]\n",
    "\\end{align*}"
   ]
  },
  {
   "cell_type": "code",
   "execution_count": 11,
   "metadata": {},
   "outputs": [
    {
     "name": "stdout",
     "output_type": "stream",
     "text": [
      "pi_ 10  =  [[0.4        0.33333333 0.26666667]] \n"
     ]
    }
   ],
   "source": [
    "#exemple 03 CM03\n",
    "#trouver sur http://aix1.uottawa.ca/~jkhoury/markov.htm\n",
    "\n",
    "CM03_P = np.matrix(\n",
    "    [[0.3, 0.3, 0.4],\n",
    "     [0.4, 0.4, 0.2],\n",
    "     [0.5, 0.3, 0.2],]) \n",
    "CM03_pi0 = np.matrix([1/3,1/3,1/3])\n",
    "CM03_n = 1\n",
    "n=10\n",
    "pi_n= MC_pi_n(CM03_P,CM03_pi0,CM03_n)            ;print(\"pi_\",n, \" = \",pi_n,\"\")\n",
    "# pi_ 1  =  [[0.4        0.33333333 0.26666667]] "
   ]
  },
  {
   "cell_type": "markdown",
   "metadata": {},
   "source": [
    "\\begin{align*}\n",
    "    \\pi^{(0)} & = \\left[ 1 \\quad  0 \\quad 0 \\right]\\\\\n",
    "    \\textbf{P} &= \\left[\n",
    "    \\begin{array}{rrr}\n",
    "      0 & 0.5 & 0.5\\\\\n",
    "      0.25  & 0.5 & 0.25 \\\\\n",
    "      0.25 & 0.25 & 0.5\n",
    "    \\end{array}\n",
    "  \\right]\\\\\n",
    "  \\pi^{(1)} = \\pi^{(0)} . \\textbf{P} &= \\left[ 1/3 \\quad  1/3 \\quad 1/3 \\right]\n",
    "  \\left[\n",
    "    \\begin{array}{rrr}\n",
    "      0 & 0.5 & 0.5\\\\\n",
    "      0.25  & 0.5 & 0.25 \\\\\n",
    "      0.25 & 0.25 & 0.5\n",
    "    \\end{array}\n",
    "  \\right]\n",
    "  = \\left[ 0.19995117 \\quad 0.40002441 \\quad 0.40002441 \\right]\n",
    "\\end{align*}"
   ]
  },
  {
   "cell_type": "code",
   "execution_count": 12,
   "metadata": {},
   "outputs": [
    {
     "name": "stdout",
     "output_type": "stream",
     "text": [
      "pi_ 5  =  [[0.19995117 0.40002441 0.40002441]] \n"
     ]
    }
   ],
   "source": [
    "#exemple 04\n",
    "\n",
    "CM04_P = np.matrix(\n",
    "    [[0, 0.5, 0.5],\n",
    "     [0.25, 0.5, 0.25],\n",
    "     [0.25, 0.25, 0.5],]) \n",
    "CM04_pi0 = np.matrix([1,0,0])\n",
    "CM04_n = 7\n",
    "n=5\n",
    "pi_n= MC_pi_n(CM04_P,CM04_pi0,CM04_n)            ;print(\"pi_\",n, \" = \",pi_n,\"\")\n",
    "# pi_ 7  =  [[0.19995117 0.40002441 0.40002441]] "
   ]
  },
  {
   "cell_type": "code",
   "execution_count": 18,
   "metadata": {},
   "outputs": [
    {
     "name": "stdout",
     "output_type": "stream",
     "text": [
      "[[0.375 0.375 0.25 ]\n",
      " [0.25  0.5   0.25 ]\n",
      " [0.25  0.375 0.375]]\n"
     ]
    }
   ],
   "source": [
    "# j accessible de i dans au plus n etapes\n",
    "#estAccessible = \n",
    "def acc(i,j, P, n) : \n",
    "    Q = P\n",
    "    for k in range(n):\n",
    "        if Q[i,j]>0: return k, Q[i,j]\n",
    "        Q = Q * P\n",
    "    return -1, 0\n",
    "\n",
    "CM04_P = np.matrix(\n",
    "    [[0, 0.5, 0.5],\n",
    "     [0.5, 0.5, 0],\n",
    "     [0.25, 0.25, 0.5],]) \n",
    "\n",
    "acc(1,2,CM04_P, 10)\n",
    "print(CM04_P**2)"
   ]
  },
  {
   "cell_type": "code",
   "execution_count": 24,
   "metadata": {},
   "outputs": [
    {
     "name": "stdout",
     "output_type": "stream",
     "text": [
      "[0, 1, 2]\n"
     ]
    },
    {
     "data": {
      "text/plain": [
       "matrix([[0.28125   , 0.4296875 , 0.2890625 ],\n",
       "        [0.2890625 , 0.4296875 , 0.28125   ],\n",
       "        [0.28515625, 0.42578125, 0.2890625 ]])"
      ]
     },
     "execution_count": 24,
     "metadata": {},
     "output_type": "execute_result"
    }
   ],
   "source": [
    "# j accessible de i dans au plus n etapes\n",
    "#estAccessible = \n",
    "CM04_P = np.matrix(\n",
    "    [[0, 0.5, 0.5],\n",
    "     [0.5, 0.5, 0],\n",
    "     [0.25, 0.25, 0.5],]) \n",
    "\n",
    "def com(i,j, P, n) : \n",
    "    r0, p0 = acc(i,j, P, n)\n",
    "    if r0 == -1: return -1, 0\n",
    "    r1, p1 = acc(j,i, P, n)\n",
    "    if r1 == -1: return -1, 0\n",
    "    return r0*r1, r0, p0, r1, p1 \n",
    "\n",
    "def getClassComofState(i, P, n):\n",
    "    result = [i]\n",
    "    \n",
    "    for j in range(P.shape[0]):\n",
    "        #rint(j)\n",
    "        if j != i:\n",
    "            cc = com(i,j,P,n)\n",
    "            if cc != -1:\n",
    "                result.append(j)\n",
    "    return result\n",
    "\n",
    "print(getClassComofState(0,CM04_P,1000))\n",
    "\n",
    "CM04_P**5\n",
    "\n",
    "\n",
    "\n",
    "getCC(P,n):\n",
    "    for i in range(P.shape[0]):\n",
    "        if not isVisited[i]:\n",
    "            ci = getClassComofState(i,P,n);\n",
    "            rs.append(ci)\n",
    "            #marquer les etats dans cette etape"
   ]
  },
  {
   "cell_type": "code",
   "execution_count": 14,
   "metadata": {},
   "outputs": [],
   "source": [
    "    \n",
    "CM04_P = np.matrix(\n",
    "    [[0, 0.5, 0.5],\n",
    "     [0.5, 0.5, 0],\n",
    "     [0.25, 0.25, 0.5],]) \n",
    "\n",
    "com(1,2,CM04_P, 10)"
   ]
  },
  {
   "cell_type": "code",
   "execution_count": 14,
   "metadata": {},
   "outputs": [],
   "source": [
    "P= np.matrix(\n",
    "    [[1/2,    1/2,  0.0, 0.0, 0.0, 0.0],\n",
    "     [0.0,    0.0,  1.0, 0.0, 0.0, 0.0],\n",
    "     [1/3,    0.0,  0.0, 1/3, 1/3, 0.0],\n",
    "     [0.0,    0.0,  0.0, 1/2, 1/2, 0.0],\n",
    "     [0.0,    0.0,  0.0, 0.0, 0.0, 1.0],\n",
    "     [0.0,    0.0,  0.0, 0.0, 1.0, 0.0],] )"
   ]
  },
  {
   "cell_type": "code",
   "execution_count": 14,
   "metadata": {},
   "outputs": [
    {
     "data": {
      "text/plain": [
       "(0, 1, 0.25, 0, 0.25)"
      ]
     },
     "execution_count": 14,
     "metadata": {},
     "output_type": "execute_result"
    }
   ],
   "source": []
  },
  {
   "cell_type": "code",
   "execution_count": null,
   "metadata": {},
   "outputs": [],
   "source": [
    "cc = {}\n",
    "states = {1,2}\n",
    "ss ={1,2}\n",
    "\n",
    "while len(ss)>0:\n",
    "    \n",
    "\n",
    "ss = {1,2,2}\n",
    "len(ss)\n",
    "\n",
    "\n",
    "    \n",
    "    "
   ]
  },
  {
   "cell_type": "code",
   "execution_count": 8,
   "metadata": {},
   "outputs": [
    {
     "ename": "NameError",
     "evalue": "name 'CM04_P' is not defined",
     "output_type": "error",
     "traceback": [
      "\u001b[1;31m---------------------------------------------------------------------------\u001b[0m",
      "\u001b[1;31mNameError\u001b[0m                                 Traceback (most recent call last)",
      "\u001b[1;32m<ipython-input-8-311ae9e00240>\u001b[0m in \u001b[0;36m<module>\u001b[1;34m()\u001b[0m\n\u001b[1;32m----> 1\u001b[1;33m \u001b[0mCM04_P\u001b[0m\u001b[1;33m\u001b[0m\u001b[0m\n\u001b[0m",
      "\u001b[1;31mNameError\u001b[0m: name 'CM04_P' is not defined"
     ]
    }
   ],
   "source": [
    "CM04_P"
   ]
  },
  {
   "cell_type": "code",
   "execution_count": null,
   "metadata": {},
   "outputs": [],
   "source": [
    "#import numpy as np\n",
    "C = np.zeros(CM04_P.shape)\n",
    "\n",
    "P= np.matrix(\n",
    "    [[0, 0.5, 0.5],\n",
    "     [0.5, 0.5, 0],\n",
    "     [0.25, 0.25, 0.5],]) \n",
    "\n",
    "\n",
    "ed = False \n",
    "i = 0\n",
    "n = 10\n",
    "while i < n:\n",
    "    for i in range(P.shape[0]):\n",
    "        for j in range(P.shape[1]):\n",
    "            if P[i,j]>0:\n",
    "                C[i,j]=1    \n",
    "    #print(i)\n",
    "    i=i+1\n",
    "C"
   ]
  },
  {
   "cell_type": "code",
   "execution_count": 28,
   "metadata": {},
   "outputs": [],
   "source": [
    "P= np.matrix(\n",
    "    [[0, 0.5, 0.5],\n",
    "     [0.5, 0.5, 0],\n",
    "     [0.25, 0.25, 0.5],]) \n",
    "\n",
    "cc  = P.shape[1]\n",
    "cc\n",
    "\n",
    "s = {0,1,2}\n",
    "\n",
    "#cc ={0:{0,1},1:{2}}\n",
    "\n",
    "cc ={0:{0,1,2}}\n",
    "\n",
    "c=[0,0,0]\n",
    "\n",
    "nb_c = 1\n",
    "\n",
    "#\n",
    "for i in range(P.shape[0]):\n",
    "    for j in range(P.shape[1]):\n",
    "        if j>i:\n",
    "            if (not j in cc[c[i]]):\n",
    "                if P[i,j] >0 and P[j,i] > 0: \n",
    "                    cc[c[i]].add(j)\n",
    "                    cc[c[j]].remove(j)\n",
    "                    c[j]=c[i]\n",
    "                    print(i,\"   \", j,\"    \",P[i,j], \"    \",cc)\n",
    "                "
   ]
  },
  {
   "cell_type": "code",
   "execution_count": 83,
   "metadata": {},
   "outputs": [],
   "source": [
    "import numpy as np\n",
    "P= np.matrix(\n",
    "    [[0,    0.5,  0.5],\n",
    "     [0.5,  0.5,  0  ],\n",
    "     [0.25, 0.25, 0.5],])\n",
    "\n",
    "P= np.matrix(\n",
    "    [[0.6,    0.2,  0.0, 0.2, 0.0],\n",
    "     [0.6,    0.4,  0.0, 0.0, 0.0],\n",
    "     [0.0,    0.3,  0.2, 0.3, 0.2],\n",
    "     [0.3,    0.0,  0.0, 0.7, 0.0],\n",
    "     [0.0,    0.0,  0.4, 0.0, 0.6]] )\n",
    "\n",
    "P= np.matrix(\n",
    "    [[1/2,    1/2,  0.0, 0.0, 0.0, 0.0],\n",
    "     [0.0,    0.0,  1.0, 0.0, 0.0, 0.0],\n",
    "     [1/3,    0.0,  0.0, 1/3, 1/3, 0.0],\n",
    "     [0.0,    0.0,  0.0, 1/2, 1/2, 0.0],\n",
    "     [0.0,    0.0,  0.0, 0.0, 0.0, 1.0],\n",
    "     [0.0,    0.0,  0.0, 0.0, 1.0, 0.0],] )\n",
    "\n",
    "s = 0\n",
    "cs00 = dict()\n",
    "n= 10\n",
    "\n",
    "P0 = P\n",
    "for k in range(n):\n",
    "    c =  np.ones(P.shape[0])*(-1)\n",
    "    csold = cs00\n",
    "    cs00 = dict()\n",
    "    #print(c)\n",
    "    for i in range(P.shape[0]):\n",
    "        if c[i]==-1:\n",
    "            cs00[i]= set([i])\n",
    "            c[i]=i\n",
    "            for j in range(i+1,P.shape[0]):\n",
    "                if(P[i,j]>0 and P[j,i]>0) and not (j in cs00):\n",
    "                    c[j]=i\n",
    "                    cs00[i].add(j)\n",
    "                    #print(i,\"   \",cs00)\n",
    "    print(k,\"   \",cs00)\n",
    "    print(P)\n",
    "    Pold = P\n",
    "    P = P0 * P\n",
    "    #print(np.array_equal(P,Pold))\n",
    "    #print(P==Pold)\n",
    "            \n",
    "  \n",
    "\n",
    "    \n",
    "        "
   ]
  },
  {
   "cell_type": "code",
   "execution_count": 130,
   "metadata": {},
   "outputs": [
    {
     "name": "stdout",
     "output_type": "stream",
     "text": [
      "[[0. 1. 0. 1. 0.]\n",
      " [1. 0. 0. 2. 0.]\n",
      " [2. 1. 0. 1. 1.]\n",
      " [1. 2. 0. 0. 0.]\n",
      " [3. 2. 1. 2. 0.]]\n"
     ]
    }
   ],
   "source": [
    "P= np.matrix(\n",
    "    [[1/2,    1/2,  0.0, 0.0, 0.0, 0.0],\n",
    "     [0.0,    0.0,  1.0, 0.0, 0.0, 0.0],\n",
    "     [1/3,    0.0,  0.0, 1/3, 1/3, 0.0],\n",
    "     [0.0,    0.0,  0.0, 1/2, 1/2, 0.0],\n",
    "     [0.0,    0.0,  0.0, 0.0, 0.0, 1.0],\n",
    "     [0.0,    0.0,  0.0, 0.0, 1.0, 0.0],] ) \n",
    "\n",
    "\n",
    "P= np.matrix(\n",
    "    [[0.6,    0.2,  0.0, 0.2, 0.0],\n",
    "     [0.6,    0.4,  0.0, 0.0, 0.0],\n",
    "     [0.0,    0.3,  0.2, 0.3, 0.2],\n",
    "     [0.3,    0.0,  0.0, 0.7, 0.0],\n",
    "     [0.0,    0.0,  0.4, 0.0, 0.6]] )\n",
    "\n",
    "Q = np.zeros(P.shape)\n",
    "P0 = P\n",
    "n = 10\n",
    "for k in range(1,n):\n",
    "    Qold = Q.copy()\n",
    "    for i in range(P.shape[0]):\n",
    "        for j in range(P.shape[1]):\n",
    "            if(i !=j and P[i,j]>0 and Q[i,j]==0): Q[i,j]=k\n",
    "    P = P0 * P\n",
    "print(Q)"
   ]
  },
  {
   "cell_type": "code",
   "execution_count": 131,
   "metadata": {},
   "outputs": [
    {
     "name": "stdout",
     "output_type": "stream",
     "text": [
      "0     {0: {0, 1, 3}}\n",
      "1     {0: {0, 1, 3}}\n",
      "2     {0: {0, 1, 3}, 2: {2, 4}}\n",
      "3     {0: {0, 1, 3}, 2: {2, 4}}\n",
      "4     {0: {0, 1, 3}, 2: {2, 4}}\n"
     ]
    }
   ],
   "source": [
    "cs00 = dict()\n",
    "c =  np.ones(Q.shape[0])*(-1)\n",
    "for i in range(Q.shape[0]):\n",
    "    if c[i]==-1:\n",
    "        cs00[i]= set([i])\n",
    "        c[i]=i\n",
    "        for j in range(Q.shape[1]):\n",
    "            if j > i :\n",
    "                if(Q[i,j]>0 and Q[j,i]>0) and not (j in cs00):\n",
    "                    c[j]=i\n",
    "                    cs00[i].add(j)\n",
    "    print(i,\"   \",cs00)"
   ]
  },
  {
   "cell_type": "code",
   "execution_count": null,
   "metadata": {},
   "outputs": [],
   "source": []
  }
 ],
 "metadata": {
  "kernelspec": {
   "display_name": "Python 3",
   "language": "python",
   "name": "python3"
  },
  "language_info": {
   "codemirror_mode": {
    "name": "ipython",
    "version": 3
   },
   "file_extension": ".py",
   "mimetype": "text/x-python",
   "name": "python",
   "nbconvert_exporter": "python",
   "pygments_lexer": "ipython3",
   "version": "3.6.4"
  }
 },
 "nbformat": 4,
 "nbformat_minor": 2
}
